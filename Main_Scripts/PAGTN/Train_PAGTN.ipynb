{
 "cells": [
  {
   "cell_type": "code",
   "execution_count": 1,
   "id": "bcbd5406",
   "metadata": {},
   "outputs": [],
   "source": [
    "# Reload automatically when the file is changed.\n",
    "%load_ext autoreload\n",
    "%autoreload 2"
   ]
  },
  {
   "cell_type": "markdown",
   "id": "4bbcf9b4",
   "metadata": {},
   "source": [
    "# Importing Modules"
   ]
  },
  {
   "cell_type": "code",
   "execution_count": 2,
   "id": "943b1498",
   "metadata": {},
   "outputs": [],
   "source": [
    "import os \n",
    "import sys\n",
    "MODULES_PATH = \"../../Modules/PAGTN\"\n",
    "MODELS_PATH = \"../../Models\"\n",
    "\n",
    "sys.path.append(MODULES_PATH)\n",
    "sys.path.append(MODELS_PATH)\n",
    "\n",
    "\n",
    "from Preprocessing import *\n",
    "from Dataloaders_Preprocessing import *\n",
    "from PAGTN import *\n",
    "from Train import *\n",
    "\n",
    "\n",
    "\n"
   ]
  },
  {
   "cell_type": "markdown",
   "id": "48379104",
   "metadata": {},
   "source": [
    "# Importing Data"
   ]
  },
  {
   "cell_type": "code",
   "execution_count": 3,
   "id": "3f6e0fa1",
   "metadata": {},
   "outputs": [],
   "source": [
    "List_Data_Train = Load_Data('../../Data/atoms/train', '../../Data/energies/train.csv')\n",
    "List_Data_Test= Load_Test_Data('../../Data/atoms/test')"
   ]
  },
  {
   "cell_type": "code",
   "execution_count": 4,
   "id": "4d40de0d",
   "metadata": {},
   "outputs": [
    {
     "data": {
      "application/3dmoljs_load.v0": "<div id=\"3dmolviewer_17506703769282067\"  style=\"position: relative; width: 800px; height: 800px;\">\n        <p id=\"3dmolwarning_17506703769282067\" style=\"background-color:#ffcccc;color:black\">3Dmol.js failed to load for some reason.  Please check your browser console for error messages.<br></p>\n        </div>\n<script>\n\nvar loadScriptAsync = function(uri){\n  return new Promise((resolve, reject) => {\n    //this is to ignore the existence of requirejs amd\n    var savedexports, savedmodule;\n    if (typeof exports !== 'undefined') savedexports = exports;\n    else exports = {}\n    if (typeof module !== 'undefined') savedmodule = module;\n    else module = {}\n\n    var tag = document.createElement('script');\n    tag.src = uri;\n    tag.async = true;\n    tag.onload = () => {\n        exports = savedexports;\n        module = savedmodule;\n        resolve();\n    };\n  var firstScriptTag = document.getElementsByTagName('script')[0];\n  firstScriptTag.parentNode.insertBefore(tag, firstScriptTag);\n});\n};\n\nif(typeof $3Dmolpromise === 'undefined') {\n$3Dmolpromise = null;\n  $3Dmolpromise = loadScriptAsync('https://cdnjs.cloudflare.com/ajax/libs/3Dmol/2.4.2/3Dmol-min.js');\n}\n\nvar viewer_17506703769282067 = null;\nvar warn = document.getElementById(\"3dmolwarning_17506703769282067\");\nif(warn) {\n    warn.parentNode.removeChild(warn);\n}\n$3Dmolpromise.then(function() {\nviewer_17506703769282067 = $3Dmol.createViewer(document.getElementById(\"3dmolviewer_17506703769282067\"),{backgroundColor:\"white\"});\nviewer_17506703769282067.zoomTo();\n\tviewer_17506703769282067.addModel(\"11\\nProperties=species:S:1:pos:R:3 pbc=\\\"F F F\\\"\\nC -1.446346 -0.436476 0.370742\\nC 0.076637 -0.504366 0.282528\\nO 0.696206 -1.438524 0.765824\\nC 0.809729 0.603998 -0.414085\\nC 0.233636 1.671100 -0.976108\\nH -1.832306 -1.305023 0.895733\\nH -1.889765 -0.404355 -0.623347\\nH -1.764102 0.460401 0.900525\\nH 1.893478 0.499982 -0.446412\\nH -0.842246 1.813040 -0.966871\\nH 0.823360 2.438608 -1.464688\",\"xyz\");\n\tviewer_17506703769282067.setStyle({},{\"stick\": {\"radius\": 0.15}, \"sphere\": {\"scale\": 0.3}});\n\tviewer_17506703769282067.addLabel(\"C\",{\"fontSize\": 12, \"fontColor\": \"black\", \"backgroundColor\": \"white\", \"backgroundOpacity\": 0.7, \"borderRadius\": 3, \"position\": {\"x\": -1.446346, \"y\": -0.436476, \"z\": 0.370742}, \"alignment\": \"center\"});\n\tviewer_17506703769282067.addLabel(\"C\",{\"fontSize\": 12, \"fontColor\": \"black\", \"backgroundColor\": \"white\", \"backgroundOpacity\": 0.7, \"borderRadius\": 3, \"position\": {\"x\": 0.076637, \"y\": -0.504366, \"z\": 0.282528}, \"alignment\": \"center\"});\n\tviewer_17506703769282067.addLabel(\"O\",{\"fontSize\": 12, \"fontColor\": \"black\", \"backgroundColor\": \"white\", \"backgroundOpacity\": 0.7, \"borderRadius\": 3, \"position\": {\"x\": 0.696206, \"y\": -1.438524, \"z\": 0.765824}, \"alignment\": \"center\"});\n\tviewer_17506703769282067.addLabel(\"C\",{\"fontSize\": 12, \"fontColor\": \"black\", \"backgroundColor\": \"white\", \"backgroundOpacity\": 0.7, \"borderRadius\": 3, \"position\": {\"x\": 0.809729, \"y\": 0.603998, \"z\": -0.414085}, \"alignment\": \"center\"});\n\tviewer_17506703769282067.addLabel(\"C\",{\"fontSize\": 12, \"fontColor\": \"black\", \"backgroundColor\": \"white\", \"backgroundOpacity\": 0.7, \"borderRadius\": 3, \"position\": {\"x\": 0.233636, \"y\": 1.6711, \"z\": -0.976108}, \"alignment\": \"center\"});\n\tviewer_17506703769282067.addLabel(\"H\",{\"fontSize\": 12, \"fontColor\": \"black\", \"backgroundColor\": \"white\", \"backgroundOpacity\": 0.7, \"borderRadius\": 3, \"position\": {\"x\": -1.832306, \"y\": -1.305023, \"z\": 0.895733}, \"alignment\": \"center\"});\n\tviewer_17506703769282067.addLabel(\"H\",{\"fontSize\": 12, \"fontColor\": \"black\", \"backgroundColor\": \"white\", \"backgroundOpacity\": 0.7, \"borderRadius\": 3, \"position\": {\"x\": -1.889765, \"y\": -0.404355, \"z\": -0.623347}, \"alignment\": \"center\"});\n\tviewer_17506703769282067.addLabel(\"H\",{\"fontSize\": 12, \"fontColor\": \"black\", \"backgroundColor\": \"white\", \"backgroundOpacity\": 0.7, \"borderRadius\": 3, \"position\": {\"x\": -1.764102, \"y\": 0.460401, \"z\": 0.900525}, \"alignment\": \"center\"});\n\tviewer_17506703769282067.addLabel(\"H\",{\"fontSize\": 12, \"fontColor\": \"black\", \"backgroundColor\": \"white\", \"backgroundOpacity\": 0.7, \"borderRadius\": 3, \"position\": {\"x\": 1.893478, \"y\": 0.499982, \"z\": -0.446412}, \"alignment\": \"center\"});\n\tviewer_17506703769282067.addLabel(\"H\",{\"fontSize\": 12, \"fontColor\": \"black\", \"backgroundColor\": \"white\", \"backgroundOpacity\": 0.7, \"borderRadius\": 3, \"position\": {\"x\": -0.842246, \"y\": 1.81304, \"z\": -0.966871}, \"alignment\": \"center\"});\n\tviewer_17506703769282067.addLabel(\"H\",{\"fontSize\": 12, \"fontColor\": \"black\", \"backgroundColor\": \"white\", \"backgroundOpacity\": 0.7, \"borderRadius\": 3, \"position\": {\"x\": 0.82336, \"y\": 2.438608, \"z\": -1.464688}, \"alignment\": \"center\"});\n\tviewer_17506703769282067.setBackgroundColor(\"lightblue\");\n\tviewer_17506703769282067.zoomTo();\nviewer_17506703769282067.render();\n});\n</script>",
      "text/html": [
       "<div id=\"3dmolviewer_17506703769282067\"  style=\"position: relative; width: 800px; height: 800px;\">\n",
       "        <p id=\"3dmolwarning_17506703769282067\" style=\"background-color:#ffcccc;color:black\">3Dmol.js failed to load for some reason.  Please check your browser console for error messages.<br></p>\n",
       "        </div>\n",
       "<script>\n",
       "\n",
       "var loadScriptAsync = function(uri){\n",
       "  return new Promise((resolve, reject) => {\n",
       "    //this is to ignore the existence of requirejs amd\n",
       "    var savedexports, savedmodule;\n",
       "    if (typeof exports !== 'undefined') savedexports = exports;\n",
       "    else exports = {}\n",
       "    if (typeof module !== 'undefined') savedmodule = module;\n",
       "    else module = {}\n",
       "\n",
       "    var tag = document.createElement('script');\n",
       "    tag.src = uri;\n",
       "    tag.async = true;\n",
       "    tag.onload = () => {\n",
       "        exports = savedexports;\n",
       "        module = savedmodule;\n",
       "        resolve();\n",
       "    };\n",
       "  var firstScriptTag = document.getElementsByTagName('script')[0];\n",
       "  firstScriptTag.parentNode.insertBefore(tag, firstScriptTag);\n",
       "});\n",
       "};\n",
       "\n",
       "if(typeof $3Dmolpromise === 'undefined') {\n",
       "$3Dmolpromise = null;\n",
       "  $3Dmolpromise = loadScriptAsync('https://cdnjs.cloudflare.com/ajax/libs/3Dmol/2.4.2/3Dmol-min.js');\n",
       "}\n",
       "\n",
       "var viewer_17506703769282067 = null;\n",
       "var warn = document.getElementById(\"3dmolwarning_17506703769282067\");\n",
       "if(warn) {\n",
       "    warn.parentNode.removeChild(warn);\n",
       "}\n",
       "$3Dmolpromise.then(function() {\n",
       "viewer_17506703769282067 = $3Dmol.createViewer(document.getElementById(\"3dmolviewer_17506703769282067\"),{backgroundColor:\"white\"});\n",
       "viewer_17506703769282067.zoomTo();\n",
       "\tviewer_17506703769282067.addModel(\"11\\nProperties=species:S:1:pos:R:3 pbc=\\\"F F F\\\"\\nC -1.446346 -0.436476 0.370742\\nC 0.076637 -0.504366 0.282528\\nO 0.696206 -1.438524 0.765824\\nC 0.809729 0.603998 -0.414085\\nC 0.233636 1.671100 -0.976108\\nH -1.832306 -1.305023 0.895733\\nH -1.889765 -0.404355 -0.623347\\nH -1.764102 0.460401 0.900525\\nH 1.893478 0.499982 -0.446412\\nH -0.842246 1.813040 -0.966871\\nH 0.823360 2.438608 -1.464688\",\"xyz\");\n",
       "\tviewer_17506703769282067.setStyle({},{\"stick\": {\"radius\": 0.15}, \"sphere\": {\"scale\": 0.3}});\n",
       "\tviewer_17506703769282067.addLabel(\"C\",{\"fontSize\": 12, \"fontColor\": \"black\", \"backgroundColor\": \"white\", \"backgroundOpacity\": 0.7, \"borderRadius\": 3, \"position\": {\"x\": -1.446346, \"y\": -0.436476, \"z\": 0.370742}, \"alignment\": \"center\"});\n",
       "\tviewer_17506703769282067.addLabel(\"C\",{\"fontSize\": 12, \"fontColor\": \"black\", \"backgroundColor\": \"white\", \"backgroundOpacity\": 0.7, \"borderRadius\": 3, \"position\": {\"x\": 0.076637, \"y\": -0.504366, \"z\": 0.282528}, \"alignment\": \"center\"});\n",
       "\tviewer_17506703769282067.addLabel(\"O\",{\"fontSize\": 12, \"fontColor\": \"black\", \"backgroundColor\": \"white\", \"backgroundOpacity\": 0.7, \"borderRadius\": 3, \"position\": {\"x\": 0.696206, \"y\": -1.438524, \"z\": 0.765824}, \"alignment\": \"center\"});\n",
       "\tviewer_17506703769282067.addLabel(\"C\",{\"fontSize\": 12, \"fontColor\": \"black\", \"backgroundColor\": \"white\", \"backgroundOpacity\": 0.7, \"borderRadius\": 3, \"position\": {\"x\": 0.809729, \"y\": 0.603998, \"z\": -0.414085}, \"alignment\": \"center\"});\n",
       "\tviewer_17506703769282067.addLabel(\"C\",{\"fontSize\": 12, \"fontColor\": \"black\", \"backgroundColor\": \"white\", \"backgroundOpacity\": 0.7, \"borderRadius\": 3, \"position\": {\"x\": 0.233636, \"y\": 1.6711, \"z\": -0.976108}, \"alignment\": \"center\"});\n",
       "\tviewer_17506703769282067.addLabel(\"H\",{\"fontSize\": 12, \"fontColor\": \"black\", \"backgroundColor\": \"white\", \"backgroundOpacity\": 0.7, \"borderRadius\": 3, \"position\": {\"x\": -1.832306, \"y\": -1.305023, \"z\": 0.895733}, \"alignment\": \"center\"});\n",
       "\tviewer_17506703769282067.addLabel(\"H\",{\"fontSize\": 12, \"fontColor\": \"black\", \"backgroundColor\": \"white\", \"backgroundOpacity\": 0.7, \"borderRadius\": 3, \"position\": {\"x\": -1.889765, \"y\": -0.404355, \"z\": -0.623347}, \"alignment\": \"center\"});\n",
       "\tviewer_17506703769282067.addLabel(\"H\",{\"fontSize\": 12, \"fontColor\": \"black\", \"backgroundColor\": \"white\", \"backgroundOpacity\": 0.7, \"borderRadius\": 3, \"position\": {\"x\": -1.764102, \"y\": 0.460401, \"z\": 0.900525}, \"alignment\": \"center\"});\n",
       "\tviewer_17506703769282067.addLabel(\"H\",{\"fontSize\": 12, \"fontColor\": \"black\", \"backgroundColor\": \"white\", \"backgroundOpacity\": 0.7, \"borderRadius\": 3, \"position\": {\"x\": 1.893478, \"y\": 0.499982, \"z\": -0.446412}, \"alignment\": \"center\"});\n",
       "\tviewer_17506703769282067.addLabel(\"H\",{\"fontSize\": 12, \"fontColor\": \"black\", \"backgroundColor\": \"white\", \"backgroundOpacity\": 0.7, \"borderRadius\": 3, \"position\": {\"x\": -0.842246, \"y\": 1.81304, \"z\": -0.966871}, \"alignment\": \"center\"});\n",
       "\tviewer_17506703769282067.addLabel(\"H\",{\"fontSize\": 12, \"fontColor\": \"black\", \"backgroundColor\": \"white\", \"backgroundOpacity\": 0.7, \"borderRadius\": 3, \"position\": {\"x\": 0.82336, \"y\": 2.438608, \"z\": -1.464688}, \"alignment\": \"center\"});\n",
       "\tviewer_17506703769282067.setBackgroundColor(\"lightblue\");\n",
       "\tviewer_17506703769282067.zoomTo();\n",
       "viewer_17506703769282067.render();\n",
       "});\n",
       "</script>"
      ]
     },
     "metadata": {},
     "output_type": "display_data"
    }
   ],
   "source": [
    "Display_Molecule_From_Atom_List(List_Data_Train[0]['Atoms_List'], Width=800, Height=800, Background_Color='lightblue')\n"
   ]
  },
  {
   "cell_type": "code",
   "execution_count": 5,
   "id": "45670e90",
   "metadata": {},
   "outputs": [],
   "source": [
    "def collate_fn(batch):\n",
    "    ids, mol_graphs, energies = zip(*batch)\n",
    "    return list(ids), list(mol_graphs), torch.stack(energies) if energies[0] is not None else None"
   ]
  },
  {
   "cell_type": "code",
   "execution_count": 6,
   "id": "6fc57834",
   "metadata": {},
   "outputs": [],
   "source": [
    "\n",
    "Dataset_Train = PAGTN_Dataset(Data_List = List_Data_Train,\n",
    "                              max_distance=5, return_energies=True, device='cpu', p_embed=True, ring_embed=True, self_attn=False, no_truncate=False)\n",
    "\n",
    "Dataset_Test = PAGTN_Dataset(Data_List = List_Data_Test,\n",
    "                                            max_distance=5, return_energies=False, device='cpu', p_embed=True, ring_embed=True, self_attn=False, no_truncate=False)\n",
    "\n",
    "\n"
   ]
  },
  {
   "cell_type": "code",
   "execution_count": 7,
   "id": "ad639ab3",
   "metadata": {},
   "outputs": [
    {
     "name": "stdout",
     "output_type": "stream",
     "text": [
      "Configuration des paramètres du PAGTN :\n",
      "HIDDEN_SIZE: 1024\n",
      "NB_HEADS: 30\n",
      "D_K: 32\n",
      "DEPTH: 1\n",
      "DROPOUT: 0.1\n",
      "MAX_DISTANCE: 23\n",
      "P_EMBED: True\n",
      "RING_EMBED: True\n",
      "SELF_ATTN: False\n",
      "NO_SHARE: False\n",
      "MASK_NEIGH: True\n",
      "AGG_FUNC: mean\n",
      "N_CLASSES: 1\n",
      "BATCH_SIZE: 64\n",
      "EPOCHS: 100\n",
      "LEARNING_RATE: 0.001\n",
      "Using device: cuda\n",
      "Model PAGTN instancié avec succès.\n"
     ]
    }
   ],
   "source": [
    "# Configuration des paramètres pour les classes MolTransformer et PropPredictor\n",
    "HIDDEN_SIZE = 1024\n",
    "NB_HEADS = 30\n",
    "D_K = 32\n",
    "DEPTH = 1\n",
    "DROPOUT = 0.1\n",
    "MAX_DISTANCE = 23\n",
    "P_EMBED = True\n",
    "RING_EMBED = True\n",
    "SELF_ATTN = False\n",
    "NO_SHARE = False\n",
    "MASK_NEIGH = True\n",
    "AGG_FUNC = 'mean'\n",
    "N_CLASSES = 1\n",
    "BATCH_SIZE = 64\n",
    "EPOCHS = 100\n",
    "LEARNING_RATE = 1e-3\n",
    "\n",
    "# Affichage des paramètres pour vérification\n",
    "print(\"Configuration des paramètres du PAGTN :\")\n",
    "print(f\"HIDDEN_SIZE: {HIDDEN_SIZE}\")\n",
    "print(f\"NB_HEADS: {NB_HEADS}\")\n",
    "print(f\"D_K: {D_K}\")\n",
    "print(f\"DEPTH: {DEPTH}\")\n",
    "print(f\"DROPOUT: {DROPOUT}\")\n",
    "print(f\"MAX_DISTANCE: {MAX_DISTANCE}\")\n",
    "print(f\"P_EMBED: {P_EMBED}\")\n",
    "print(f\"RING_EMBED: {RING_EMBED}\")\n",
    "print(f\"SELF_ATTN: {SELF_ATTN}\")\n",
    "print(f\"NO_SHARE: {NO_SHARE}\")\n",
    "print(f\"MASK_NEIGH: {MASK_NEIGH}\")\n",
    "print(f\"AGG_FUNC: {AGG_FUNC}\")\n",
    "print(f\"N_CLASSES: {N_CLASSES}\")\n",
    "print(f\"BATCH_SIZE: {BATCH_SIZE}\")\n",
    "print(f\"EPOCHS: {EPOCHS}\")\n",
    "print(f\"LEARNING_RATE: {LEARNING_RATE}\")\n",
    "\n",
    "# Instanciation du modèle\n",
    "import torch\n",
    "Device = torch.device(\"cuda\" if torch.cuda.is_available() else \"cpu\")\n",
    "print(f\"Using device: {Device}\")\n",
    "\n",
    "Model = PropPredictor(\n",
    "    hidden_size=HIDDEN_SIZE,\n",
    "    n_heads=NB_HEADS,\n",
    "    d_k=D_K,\n",
    "    depth=DEPTH,\n",
    "    dropout=DROPOUT,\n",
    "    max_distance=MAX_DISTANCE,\n",
    "    p_embed=P_EMBED,\n",
    "    ring_embed=RING_EMBED,\n",
    "    self_attn=SELF_ATTN,\n",
    "    no_share=NO_SHARE,\n",
    "    mask_neigh=MASK_NEIGH,\n",
    "    agg_func=AGG_FUNC,\n",
    "    n_classes=N_CLASSES\n",
    ")\n",
    "\n",
    "Model.to(Device)\n",
    "print(\"Model PAGTN instancié avec succès.\")"
   ]
  },
  {
   "cell_type": "code",
   "execution_count": 8,
   "id": "fe77457b",
   "metadata": {},
   "outputs": [],
   "source": [
    "PATH_SAVING_MODEL = '../../Saved_Models/PAGTN/Best_Model.pth'\n",
    "\n",
    "os.makedirs(os.path.dirname(PATH_SAVING_MODEL), exist_ok=True)\n",
    "\n",
    "\n"
   ]
  },
  {
   "cell_type": "code",
   "execution_count": 9,
   "id": "caee839e",
   "metadata": {},
   "outputs": [
    {
     "name": "stdout",
     "output_type": "stream",
     "text": [
      "Number of parameters in the model: 2231650\n"
     ]
    }
   ],
   "source": [
    "# NB parameters\n",
    "Nb_Parameters = sum(p.numel() for p in Model.parameters() if p.requires_grad)\n",
    "print(f\"Number of parameters in the model: {Nb_Parameters}\")"
   ]
  },
  {
   "cell_type": "code",
   "execution_count": 10,
   "id": "f670b572",
   "metadata": {},
   "outputs": [],
   "source": [
    "DataLoader_Train = DataLoader(Dataset_Train, batch_size=64, shuffle=True, collate_fn=collate_fn)\n",
    "DataLoader_Test = DataLoader(Dataset_Test, batch_size=64, shuffle=False, collate_fn=collate_fn)"
   ]
  },
  {
   "cell_type": "code",
   "execution_count": 11,
   "id": "6696378d",
   "metadata": {},
   "outputs": [
    {
     "data": {
      "text/plain": [
       "device(type='cuda')"
      ]
     },
     "execution_count": 11,
     "metadata": {},
     "output_type": "execute_result"
    }
   ],
   "source": [
    "Device"
   ]
  },
  {
   "cell_type": "code",
   "execution_count": null,
   "id": "369f84ce",
   "metadata": {},
   "outputs": [
    {
     "name": "stderr",
     "output_type": "stream",
     "text": [
      "/home/ayoubchoukri/anaconda3/envs/Personal/lib/python3.12/site-packages/torch/optim/lr_scheduler.py:62: UserWarning: The verbose parameter is deprecated. Please use get_last_lr() to access the learning rate.\n",
      "  warnings.warn(\n"
     ]
    },
    {
     "data": {
      "application/vnd.jupyter.widget-view+json": {
       "model_id": "9702f2b531c54098a3b23cfecf26fe5f",
       "version_major": 2,
       "version_minor": 0
      },
      "text/plain": [
       "Epochs:   0%|          | 0/10 [00:00<?, ?it/s]"
      ]
     },
     "metadata": {},
     "output_type": "display_data"
    },
    {
     "data": {
      "application/vnd.jupyter.widget-view+json": {
       "model_id": "ed1af4b070984c229201ce5f70f75a68",
       "version_major": 2,
       "version_minor": 0
      },
      "text/plain": [
       "Batches:   0%|          | 0/103 [00:00<?, ?it/s]"
      ]
     },
     "metadata": {},
     "output_type": "display_data"
    },
    {
     "name": "stderr",
     "output_type": "stream",
     "text": [
      "/home/ayoubchoukri/anaconda3/envs/Personal/lib/python3.12/site-packages/torch/nn/modules/loss.py:608: UserWarning: Using a target size (torch.Size([64, 1])) that is different to the input size (torch.Size([64])). This will likely lead to incorrect results due to broadcasting. Please ensure they have the same size.\n",
      "  return F.mse_loss(input, target, reduction=self.reduction)\n",
      "/home/ayoubchoukri/anaconda3/envs/Personal/lib/python3.12/site-packages/torch/nn/modules/loss.py:608: UserWarning: Using a target size (torch.Size([63, 1])) that is different to the input size (torch.Size([63])). This will likely lead to incorrect results due to broadcasting. Please ensure they have the same size.\n",
      "  return F.mse_loss(input, target, reduction=self.reduction)\n"
     ]
    },
    {
     "data": {
      "application/vnd.jupyter.widget-view+json": {
       "model_id": "9644cac12bf9421a97efbe4882fd1dd8",
       "version_major": 2,
       "version_minor": 0
      },
      "text/plain": [
       "Batches:   0%|          | 0/103 [00:00<?, ?it/s]"
      ]
     },
     "metadata": {},
     "output_type": "display_data"
    },
    {
     "name": "stdout",
     "output_type": "stream",
     "text": [
      "New best test loss: 139.465, model saved to ../../Saved_Models/PAGTN/Best_Model.pth\n",
      "Epoch: 1/10 Train Loss: 706.377 Test Loss: 139.465\n"
     ]
    },
    {
     "data": {
      "application/vnd.jupyter.widget-view+json": {
       "model_id": "981e05f95ce24f2b98fc7372fc58f733",
       "version_major": 2,
       "version_minor": 0
      },
      "text/plain": [
       "Batches:   0%|          | 0/103 [00:00<?, ?it/s]"
      ]
     },
     "metadata": {},
     "output_type": "display_data"
    }
   ],
   "source": [
    "import torch\n",
    "import torch.nn as nn\n",
    "import torch.optim.lr_scheduler as lr_scheduler\n",
    "\n",
    "# Nettoyage du cache GPU\n",
    "torch.cuda.empty_cache()\n",
    "\n",
    "# Optimizer & Device\n",
    "Optimizer = torch.optim.Adam(Model.parameters(), lr=1e-3)\n",
    "Device = torch.device(\"cuda\" if torch.cuda.is_available() else \"cpu\")\n",
    "Criterion = nn.MSELoss()\n",
    "\n",
    "# ✅ Exemple 1 : StepLR (décroît le LR tous les 5 epochs)\n",
    "# Scheduler = lr_scheduler.StepLR(Optimizer, step_size=5, gamma=0.5)\n",
    "\n",
    "# ✅ Exemple 2 : ReduceLROnPlateau (réduit le LR si la perte de test ne diminue pas)\n",
    "Scheduler = lr_scheduler.ReduceLROnPlateau(\n",
    "    Optimizer,\n",
    "    mode='min',\n",
    "    factor=0.5,\n",
    "    patience=2,   # n epochs sans amélioration avant réduction du LR\n",
    "    verbose=True\n",
    ")\n",
    "\n",
    "# 🚀 Appel à Train avec le Scheduler\n",
    "List_Train_Losses_Per_Epochs, List_Test_Losses_Per_Epochs, \\\n",
    "List_Train_Losses_Per_Batches, List_Test_Losses_Per_Batches = Train(\n",
    "    Model,\n",
    "    DataLoader_Train,\n",
    "    DataLoader_Train,  # Remplace par DataLoader_Test si tu as un vrai jeu de test\n",
    "    Optimizer,\n",
    "    Criterion,\n",
    "    Num_Epochs=10,\n",
    "    Device=Device,\n",
    "    Save_Path=PATH_SAVING_MODEL,\n",
    "    Scheduler=Scheduler  # ✅ Ici on le passe\n",
    ")\n",
    "\n",
    "# 🚀 Affichage + sauvegarde du graphique\n",
    "Plot_Losses(\n",
    "    List_Train_Losses_Per_Epochs,\n",
    "    List_Test_Losses_Per_Epochs,\n",
    "    List_Train_Losses_Per_Batches,\n",
    "    List_Test_Losses_Per_Batches,\n",
    "    Save=True,\n",
    "    Save_Path='losses_plot.png'\n",
    ")\n"
   ]
  }
 ],
 "metadata": {
  "kernelspec": {
   "display_name": "Personal",
   "language": "python",
   "name": "python3"
  },
  "language_info": {
   "codemirror_mode": {
    "name": "ipython",
    "version": 3
   },
   "file_extension": ".py",
   "mimetype": "text/x-python",
   "name": "python",
   "nbconvert_exporter": "python",
   "pygments_lexer": "ipython3",
   "version": "3.12.4"
  }
 },
 "nbformat": 4,
 "nbformat_minor": 5
}
