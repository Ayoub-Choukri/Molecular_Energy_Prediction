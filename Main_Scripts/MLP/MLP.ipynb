{
 "cells": [
  {
   "cell_type": "code",
   "execution_count": 111,
   "id": "950c4719",
   "metadata": {},
   "outputs": [
    {
     "name": "stdout",
     "output_type": "stream",
     "text": [
      "The autoreload extension is already loaded. To reload it, use:\n",
      "  %reload_ext autoreload\n"
     ]
    }
   ],
   "source": [
    "# Reload automatically when the file is changed.\n",
    "%load_ext autoreload\n",
    "%autoreload 2"
   ]
  },
  {
   "cell_type": "markdown",
   "id": "490aafee",
   "metadata": {},
   "source": [
    "# Importing Modules"
   ]
  },
  {
   "cell_type": "code",
   "execution_count": 112,
   "id": "44cb2147",
   "metadata": {},
   "outputs": [],
   "source": [
    "import os \n",
    "import sys\n",
    "MODULES_PATH = \"Modules\"\n",
    "MODELS_PATH = \"Models\"\n",
    "\n",
    "sys.path.append(MODULES_PATH)\n",
    "sys.path.append(MODELS_PATH)\n",
    "\n",
    "\n",
    "from Preprocessing import *\n",
    "from Dataloaders_Preprocessing import *\n",
    "from Train import *\n",
    "from MLP_Direct    import *\n",
    "\n",
    "\n",
    "\n",
    "\n"
   ]
  },
  {
   "cell_type": "markdown",
   "id": "e91a33f0",
   "metadata": {},
   "source": [
    "# Importing Data"
   ]
  },
  {
   "cell_type": "code",
   "execution_count": 113,
   "id": "9654ad6a",
   "metadata": {},
   "outputs": [],
   "source": [
    "List_Data_Train = Load_Data('Data/atoms/train', 'Data/energies/train.csv')\n",
    "List_Data_Val = Load_Test_Data('Data/atoms/test')"
   ]
  },
  {
   "cell_type": "code",
   "execution_count": 114,
   "id": "e331f583",
   "metadata": {},
   "outputs": [
    {
     "data": {
      "application/3dmoljs_load.v0": "<div id=\"3dmolviewer_17490651010059805\"  style=\"position: relative; width: 800px; height: 800px;\">\n        <p id=\"3dmolwarning_17490651010059805\" style=\"background-color:#ffcccc;color:black\">3Dmol.js failed to load for some reason.  Please check your browser console for error messages.<br></p>\n        </div>\n<script>\n\nvar loadScriptAsync = function(uri){\n  return new Promise((resolve, reject) => {\n    //this is to ignore the existence of requirejs amd\n    var savedexports, savedmodule;\n    if (typeof exports !== 'undefined') savedexports = exports;\n    else exports = {}\n    if (typeof module !== 'undefined') savedmodule = module;\n    else module = {}\n\n    var tag = document.createElement('script');\n    tag.src = uri;\n    tag.async = true;\n    tag.onload = () => {\n        exports = savedexports;\n        module = savedmodule;\n        resolve();\n    };\n  var firstScriptTag = document.getElementsByTagName('script')[0];\n  firstScriptTag.parentNode.insertBefore(tag, firstScriptTag);\n});\n};\n\nif(typeof $3Dmolpromise === 'undefined') {\n$3Dmolpromise = null;\n  $3Dmolpromise = loadScriptAsync('https://cdnjs.cloudflare.com/ajax/libs/3Dmol/2.4.2/3Dmol-min.js');\n}\n\nvar viewer_17490651010059805 = null;\nvar warn = document.getElementById(\"3dmolwarning_17490651010059805\");\nif(warn) {\n    warn.parentNode.removeChild(warn);\n}\n$3Dmolpromise.then(function() {\nviewer_17490651010059805 = $3Dmol.createViewer(document.getElementById(\"3dmolviewer_17490651010059805\"),{backgroundColor:\"white\"});\nviewer_17490651010059805.zoomTo();\n\tviewer_17490651010059805.addModel(\"11\\nProperties=species:S:1:pos:R:3 pbc=\\\"F F F\\\"\\nC -1.446346 -0.436476 0.370742\\nC 0.076637 -0.504366 0.282528\\nO 0.696206 -1.438524 0.765824\\nC 0.809729 0.603998 -0.414085\\nC 0.233636 1.671100 -0.976108\\nH -1.832306 -1.305023 0.895733\\nH -1.889765 -0.404355 -0.623347\\nH -1.764102 0.460401 0.900525\\nH 1.893478 0.499982 -0.446412\\nH -0.842246 1.813040 -0.966871\\nH 0.823360 2.438608 -1.464688\",\"xyz\");\n\tviewer_17490651010059805.setStyle({},{\"stick\": {\"radius\": 0.15}, \"sphere\": {\"scale\": 0.3}});\n\tviewer_17490651010059805.addLabel(\"C\",{\"fontSize\": 12, \"fontColor\": \"black\", \"backgroundColor\": \"white\", \"backgroundOpacity\": 0.7, \"borderRadius\": 3, \"position\": {\"x\": -1.446346, \"y\": -0.436476, \"z\": 0.370742}, \"alignment\": \"center\"});\n\tviewer_17490651010059805.addLabel(\"C\",{\"fontSize\": 12, \"fontColor\": \"black\", \"backgroundColor\": \"white\", \"backgroundOpacity\": 0.7, \"borderRadius\": 3, \"position\": {\"x\": 0.076637, \"y\": -0.504366, \"z\": 0.282528}, \"alignment\": \"center\"});\n\tviewer_17490651010059805.addLabel(\"O\",{\"fontSize\": 12, \"fontColor\": \"black\", \"backgroundColor\": \"white\", \"backgroundOpacity\": 0.7, \"borderRadius\": 3, \"position\": {\"x\": 0.696206, \"y\": -1.438524, \"z\": 0.765824}, \"alignment\": \"center\"});\n\tviewer_17490651010059805.addLabel(\"C\",{\"fontSize\": 12, \"fontColor\": \"black\", \"backgroundColor\": \"white\", \"backgroundOpacity\": 0.7, \"borderRadius\": 3, \"position\": {\"x\": 0.809729, \"y\": 0.603998, \"z\": -0.414085}, \"alignment\": \"center\"});\n\tviewer_17490651010059805.addLabel(\"C\",{\"fontSize\": 12, \"fontColor\": \"black\", \"backgroundColor\": \"white\", \"backgroundOpacity\": 0.7, \"borderRadius\": 3, \"position\": {\"x\": 0.233636, \"y\": 1.6711, \"z\": -0.976108}, \"alignment\": \"center\"});\n\tviewer_17490651010059805.addLabel(\"H\",{\"fontSize\": 12, \"fontColor\": \"black\", \"backgroundColor\": \"white\", \"backgroundOpacity\": 0.7, \"borderRadius\": 3, \"position\": {\"x\": -1.832306, \"y\": -1.305023, \"z\": 0.895733}, \"alignment\": \"center\"});\n\tviewer_17490651010059805.addLabel(\"H\",{\"fontSize\": 12, \"fontColor\": \"black\", \"backgroundColor\": \"white\", \"backgroundOpacity\": 0.7, \"borderRadius\": 3, \"position\": {\"x\": -1.889765, \"y\": -0.404355, \"z\": -0.623347}, \"alignment\": \"center\"});\n\tviewer_17490651010059805.addLabel(\"H\",{\"fontSize\": 12, \"fontColor\": \"black\", \"backgroundColor\": \"white\", \"backgroundOpacity\": 0.7, \"borderRadius\": 3, \"position\": {\"x\": -1.764102, \"y\": 0.460401, \"z\": 0.900525}, \"alignment\": \"center\"});\n\tviewer_17490651010059805.addLabel(\"H\",{\"fontSize\": 12, \"fontColor\": \"black\", \"backgroundColor\": \"white\", \"backgroundOpacity\": 0.7, \"borderRadius\": 3, \"position\": {\"x\": 1.893478, \"y\": 0.499982, \"z\": -0.446412}, \"alignment\": \"center\"});\n\tviewer_17490651010059805.addLabel(\"H\",{\"fontSize\": 12, \"fontColor\": \"black\", \"backgroundColor\": \"white\", \"backgroundOpacity\": 0.7, \"borderRadius\": 3, \"position\": {\"x\": -0.842246, \"y\": 1.81304, \"z\": -0.966871}, \"alignment\": \"center\"});\n\tviewer_17490651010059805.addLabel(\"H\",{\"fontSize\": 12, \"fontColor\": \"black\", \"backgroundColor\": \"white\", \"backgroundOpacity\": 0.7, \"borderRadius\": 3, \"position\": {\"x\": 0.82336, \"y\": 2.438608, \"z\": -1.464688}, \"alignment\": \"center\"});\n\tviewer_17490651010059805.setBackgroundColor(\"lightblue\");\n\tviewer_17490651010059805.zoomTo();\nviewer_17490651010059805.render();\n});\n</script>",
      "text/html": [
       "<div id=\"3dmolviewer_17490651010059805\"  style=\"position: relative; width: 800px; height: 800px;\">\n",
       "        <p id=\"3dmolwarning_17490651010059805\" style=\"background-color:#ffcccc;color:black\">3Dmol.js failed to load for some reason.  Please check your browser console for error messages.<br></p>\n",
       "        </div>\n",
       "<script>\n",
       "\n",
       "var loadScriptAsync = function(uri){\n",
       "  return new Promise((resolve, reject) => {\n",
       "    //this is to ignore the existence of requirejs amd\n",
       "    var savedexports, savedmodule;\n",
       "    if (typeof exports !== 'undefined') savedexports = exports;\n",
       "    else exports = {}\n",
       "    if (typeof module !== 'undefined') savedmodule = module;\n",
       "    else module = {}\n",
       "\n",
       "    var tag = document.createElement('script');\n",
       "    tag.src = uri;\n",
       "    tag.async = true;\n",
       "    tag.onload = () => {\n",
       "        exports = savedexports;\n",
       "        module = savedmodule;\n",
       "        resolve();\n",
       "    };\n",
       "  var firstScriptTag = document.getElementsByTagName('script')[0];\n",
       "  firstScriptTag.parentNode.insertBefore(tag, firstScriptTag);\n",
       "});\n",
       "};\n",
       "\n",
       "if(typeof $3Dmolpromise === 'undefined') {\n",
       "$3Dmolpromise = null;\n",
       "  $3Dmolpromise = loadScriptAsync('https://cdnjs.cloudflare.com/ajax/libs/3Dmol/2.4.2/3Dmol-min.js');\n",
       "}\n",
       "\n",
       "var viewer_17490651010059805 = null;\n",
       "var warn = document.getElementById(\"3dmolwarning_17490651010059805\");\n",
       "if(warn) {\n",
       "    warn.parentNode.removeChild(warn);\n",
       "}\n",
       "$3Dmolpromise.then(function() {\n",
       "viewer_17490651010059805 = $3Dmol.createViewer(document.getElementById(\"3dmolviewer_17490651010059805\"),{backgroundColor:\"white\"});\n",
       "viewer_17490651010059805.zoomTo();\n",
       "\tviewer_17490651010059805.addModel(\"11\\nProperties=species:S:1:pos:R:3 pbc=\\\"F F F\\\"\\nC -1.446346 -0.436476 0.370742\\nC 0.076637 -0.504366 0.282528\\nO 0.696206 -1.438524 0.765824\\nC 0.809729 0.603998 -0.414085\\nC 0.233636 1.671100 -0.976108\\nH -1.832306 -1.305023 0.895733\\nH -1.889765 -0.404355 -0.623347\\nH -1.764102 0.460401 0.900525\\nH 1.893478 0.499982 -0.446412\\nH -0.842246 1.813040 -0.966871\\nH 0.823360 2.438608 -1.464688\",\"xyz\");\n",
       "\tviewer_17490651010059805.setStyle({},{\"stick\": {\"radius\": 0.15}, \"sphere\": {\"scale\": 0.3}});\n",
       "\tviewer_17490651010059805.addLabel(\"C\",{\"fontSize\": 12, \"fontColor\": \"black\", \"backgroundColor\": \"white\", \"backgroundOpacity\": 0.7, \"borderRadius\": 3, \"position\": {\"x\": -1.446346, \"y\": -0.436476, \"z\": 0.370742}, \"alignment\": \"center\"});\n",
       "\tviewer_17490651010059805.addLabel(\"C\",{\"fontSize\": 12, \"fontColor\": \"black\", \"backgroundColor\": \"white\", \"backgroundOpacity\": 0.7, \"borderRadius\": 3, \"position\": {\"x\": 0.076637, \"y\": -0.504366, \"z\": 0.282528}, \"alignment\": \"center\"});\n",
       "\tviewer_17490651010059805.addLabel(\"O\",{\"fontSize\": 12, \"fontColor\": \"black\", \"backgroundColor\": \"white\", \"backgroundOpacity\": 0.7, \"borderRadius\": 3, \"position\": {\"x\": 0.696206, \"y\": -1.438524, \"z\": 0.765824}, \"alignment\": \"center\"});\n",
       "\tviewer_17490651010059805.addLabel(\"C\",{\"fontSize\": 12, \"fontColor\": \"black\", \"backgroundColor\": \"white\", \"backgroundOpacity\": 0.7, \"borderRadius\": 3, \"position\": {\"x\": 0.809729, \"y\": 0.603998, \"z\": -0.414085}, \"alignment\": \"center\"});\n",
       "\tviewer_17490651010059805.addLabel(\"C\",{\"fontSize\": 12, \"fontColor\": \"black\", \"backgroundColor\": \"white\", \"backgroundOpacity\": 0.7, \"borderRadius\": 3, \"position\": {\"x\": 0.233636, \"y\": 1.6711, \"z\": -0.976108}, \"alignment\": \"center\"});\n",
       "\tviewer_17490651010059805.addLabel(\"H\",{\"fontSize\": 12, \"fontColor\": \"black\", \"backgroundColor\": \"white\", \"backgroundOpacity\": 0.7, \"borderRadius\": 3, \"position\": {\"x\": -1.832306, \"y\": -1.305023, \"z\": 0.895733}, \"alignment\": \"center\"});\n",
       "\tviewer_17490651010059805.addLabel(\"H\",{\"fontSize\": 12, \"fontColor\": \"black\", \"backgroundColor\": \"white\", \"backgroundOpacity\": 0.7, \"borderRadius\": 3, \"position\": {\"x\": -1.889765, \"y\": -0.404355, \"z\": -0.623347}, \"alignment\": \"center\"});\n",
       "\tviewer_17490651010059805.addLabel(\"H\",{\"fontSize\": 12, \"fontColor\": \"black\", \"backgroundColor\": \"white\", \"backgroundOpacity\": 0.7, \"borderRadius\": 3, \"position\": {\"x\": -1.764102, \"y\": 0.460401, \"z\": 0.900525}, \"alignment\": \"center\"});\n",
       "\tviewer_17490651010059805.addLabel(\"H\",{\"fontSize\": 12, \"fontColor\": \"black\", \"backgroundColor\": \"white\", \"backgroundOpacity\": 0.7, \"borderRadius\": 3, \"position\": {\"x\": 1.893478, \"y\": 0.499982, \"z\": -0.446412}, \"alignment\": \"center\"});\n",
       "\tviewer_17490651010059805.addLabel(\"H\",{\"fontSize\": 12, \"fontColor\": \"black\", \"backgroundColor\": \"white\", \"backgroundOpacity\": 0.7, \"borderRadius\": 3, \"position\": {\"x\": -0.842246, \"y\": 1.81304, \"z\": -0.966871}, \"alignment\": \"center\"});\n",
       "\tviewer_17490651010059805.addLabel(\"H\",{\"fontSize\": 12, \"fontColor\": \"black\", \"backgroundColor\": \"white\", \"backgroundOpacity\": 0.7, \"borderRadius\": 3, \"position\": {\"x\": 0.82336, \"y\": 2.438608, \"z\": -1.464688}, \"alignment\": \"center\"});\n",
       "\tviewer_17490651010059805.setBackgroundColor(\"lightblue\");\n",
       "\tviewer_17490651010059805.zoomTo();\n",
       "viewer_17490651010059805.render();\n",
       "});\n",
       "</script>"
      ]
     },
     "metadata": {},
     "output_type": "display_data"
    }
   ],
   "source": [
    "Display_Molecule_From_Atom_List(List_Data_Train[0]['Atoms_List'], Width=800, Height=800, Background_Color='lightblue')\n"
   ]
  },
  {
   "cell_type": "code",
   "execution_count": 115,
   "id": "0d5a34cb",
   "metadata": {},
   "outputs": [
    {
     "data": {
      "text/plain": [
       "{'Id': 5415,\n",
       " 'Atoms_List': [{'Symbol': 'C', 'X': -1.446346, 'Y': -0.436476, 'Z': 0.370742},\n",
       "  {'Symbol': 'C', 'X': 0.076637, 'Y': -0.504366, 'Z': 0.282528},\n",
       "  {'Symbol': 'O', 'X': 0.696206, 'Y': -1.438524, 'Z': 0.765824},\n",
       "  {'Symbol': 'C', 'X': 0.809729, 'Y': 0.603998, 'Z': -0.414085},\n",
       "  {'Symbol': 'C', 'X': 0.233636, 'Y': 1.6711, 'Z': -0.976108},\n",
       "  {'Symbol': 'H', 'X': -1.832306, 'Y': -1.305023, 'Z': 0.895733},\n",
       "  {'Symbol': 'H', 'X': -1.889765, 'Y': -0.404355, 'Z': -0.623347},\n",
       "  {'Symbol': 'H', 'X': -1.764102, 'Y': 0.460401, 'Z': 0.900525},\n",
       "  {'Symbol': 'H', 'X': 1.893478, 'Y': 0.499982, 'Z': -0.446412},\n",
       "  {'Symbol': 'H', 'X': -0.842246, 'Y': 1.81304, 'Z': -0.966871},\n",
       "  {'Symbol': 'H', 'X': 0.82336, 'Y': 2.438608, 'Z': -1.464688}],\n",
       " 'Atoms_DataFrame':    Symbol         X         Y         Z\n",
       " 0       C -1.446346 -0.436476  0.370742\n",
       " 1       C  0.076637 -0.504366  0.282528\n",
       " 2       O  0.696206 -1.438524  0.765824\n",
       " 3       C  0.809729  0.603998 -0.414085\n",
       " 4       C  0.233636  1.671100 -0.976108\n",
       " 5       H -1.832306 -1.305023  0.895733\n",
       " 6       H -1.889765 -0.404355 -0.623347\n",
       " 7       H -1.764102  0.460401  0.900525\n",
       " 8       H  1.893478  0.499982 -0.446412\n",
       " 9       H -0.842246  1.813040 -0.966871\n",
       " 10      H  0.823360  2.438608 -1.464688,\n",
       " 'Energy': -55.631072128002415}"
      ]
     },
     "execution_count": 115,
     "metadata": {},
     "output_type": "execute_result"
    }
   ],
   "source": [
    "List_Data_Train[0]"
   ]
  },
  {
   "cell_type": "code",
   "execution_count": 116,
   "id": "60fbcd60",
   "metadata": {},
   "outputs": [
    {
     "data": {
      "text/plain": [
       "{'Id': 7400,\n",
       " 'Atoms_List': [{'Symbol': 'C', 'X': -0.626976, 'Y': 0.113989, 'Z': -1.980118},\n",
       "  {'Symbol': 'C', 'X': -0.958239, 'Y': 0.623006, 'Z': -0.578352},\n",
       "  {'Symbol': 'C', 'X': -0.411934, 'Y': -0.255524, 'Z': 0.529094},\n",
       "  {'Symbol': 'C', 'X': -1.23096, 'Y': -0.843806, 'Z': 1.411518},\n",
       "  {'Symbol': 'C', 'X': 1.08794, 'Y': -0.480179, 'Z': 0.589391},\n",
       "  {'Symbol': 'N', 'X': 1.855524, 'Y': 0.761014, 'Z': 0.448525},\n",
       "  {'Symbol': 'H', 'X': -1.049764, 'Y': 0.773424, 'Z': -2.735579},\n",
       "  {'Symbol': 'H', 'X': -1.032006, 'Y': -0.882745, 'Z': -2.140298},\n",
       "  {'Symbol': 'H', 'X': 0.44827, 'Y': 0.066349, 'Z': -2.141746},\n",
       "  {'Symbol': 'H', 'X': -2.044088, 'Y': 0.706175, 'Z': -0.470983},\n",
       "  {'Symbol': 'H', 'X': -0.557062, 'Y': 1.637614, 'Z': -0.463243},\n",
       "  {'Symbol': 'H', 'X': -2.305551, 'Y': -0.71731, 'Z': 1.354377},\n",
       "  {'Symbol': 'H', 'X': -0.844963, 'Y': -1.461315, 'Z': 2.214132},\n",
       "  {'Symbol': 'H', 'X': 1.36394, 'Y': -1.217835, 'Z': -0.198486},\n",
       "  {'Symbol': 'H', 'X': 1.351571, 'Y': -0.948779, 'Z': 1.546971},\n",
       "  {'Symbol': 'H', 'X': 1.670089, 'Y': 1.202402, 'Z': -0.448491},\n",
       "  {'Symbol': 'H', 'X': 2.851913, 'Y': 0.570003, 'Z': 0.514472}],\n",
       " 'Atoms_DataFrame':    Symbol         X         Y         Z\n",
       " 0       C -0.626976  0.113989 -1.980118\n",
       " 1       C -0.958239  0.623006 -0.578352\n",
       " 2       C -0.411934 -0.255524  0.529094\n",
       " 3       C -1.230960 -0.843806  1.411518\n",
       " 4       C  1.087940 -0.480179  0.589391\n",
       " 5       N  1.855524  0.761014  0.448525\n",
       " 6       H -1.049764  0.773424 -2.735579\n",
       " 7       H -1.032006 -0.882745 -2.140298\n",
       " 8       H  0.448270  0.066349 -2.141746\n",
       " 9       H -2.044088  0.706175 -0.470983\n",
       " 10      H -0.557062  1.637614 -0.463243\n",
       " 11      H -2.305551 -0.717310  1.354377\n",
       " 12      H -0.844963 -1.461315  2.214132\n",
       " 13      H  1.363940 -1.217835 -0.198486\n",
       " 14      H  1.351571 -0.948779  1.546971\n",
       " 15      H  1.670089  1.202402 -0.448491\n",
       " 16      H  2.851913  0.570003  0.514472}"
      ]
     },
     "execution_count": 116,
     "metadata": {},
     "output_type": "execute_result"
    }
   ],
   "source": [
    "List_Data_Val[0]"
   ]
  },
  {
   "cell_type": "code",
   "execution_count": 130,
   "id": "0e7d1a9e",
   "metadata": {},
   "outputs": [],
   "source": [
    "def random_translate_and_rotate(positions, max_translation=5.0):\n",
    "\n",
    "    positions = np.array(positions)\n",
    "\n",
    "    # Translation aléatoire\n",
    "    translation = np.random.uniform(-max_translation, max_translation, size=(1, 3))\n",
    "    positions = positions + translation\n",
    "\n",
    "    # Rotation aléatoire\n",
    "    theta = np.random.uniform(0, 2 * np.pi)\n",
    "    axis = np.random.randn(3)\n",
    "    axis = axis / np.linalg.norm(axis)\n",
    "\n",
    "    K = np.array([[0, -axis[2], axis[1]],\n",
    "                  [axis[2], 0, -axis[0]],\n",
    "                  [-axis[1], axis[0], 0]])\n",
    "    R = np.eye(3) + np.sin(theta) * K + (1 - np.cos(theta)) * (K @ K)\n",
    "\n",
    "    return (positions @ R.T).astype(np.float32)\n"
   ]
  },
  {
   "cell_type": "code",
   "execution_count": 131,
   "id": "7d12b451",
   "metadata": {},
   "outputs": [],
   "source": [
    "Dataset_Train = MoleculeDataset_MLP(List_Data_Train, Nb_Atoms_Max_In_Molecule=23, Return_Energies=True,transform=random_translate_and_rotate)\n",
    "Dataset_Test = MoleculeDataset_MLP(List_Data_Val, Nb_Atoms_Max_In_Molecule=23, Return_Energies=False,transform=random_translate_and_rotate)"
   ]
  },
  {
   "cell_type": "code",
   "execution_count": 132,
   "id": "5e3ea2b2",
   "metadata": {},
   "outputs": [],
   "source": [
    "Model = Model_MLP_Direct(\n",
    "    Atom_Vocab_Size=6,  # H, C, N, O, S\n",
    "    Embedding_Size=200,\n",
    "    Nb_Hidden_Layers=9,\n",
    "    Hidden_Layers_Size_List=[128, 256, 512, 256, 128, 64, 32, 16, 8],\n",
    "    Output_Dim=1,\n",
    "    Activation_Name='PReLU',\n",
    "    Nb_Atomes_Max_In_Molecule=23\n",
    ")"
   ]
  },
  {
   "cell_type": "code",
   "execution_count": 133,
   "id": "432630fb",
   "metadata": {},
   "outputs": [],
   "source": [
    "DataLoader_Train = Create_DataLoader(List_Data_Train, Batch_Size=128, Shuffle=True, Num_Workers=0, Test_Size=0, Return_Energies=True,Transform=random_translate_and_rotate)\n",
    "DataLoader_Test = Create_DataLoader(List_Data_Val, Batch_Size=128, Shuffle=False, Num_Workers=0, Test_Size=0, Return_Energies=False, Transform=random_translate_and_rotate)"
   ]
  },
  {
   "cell_type": "code",
   "execution_count": 134,
   "id": "2c2bb241",
   "metadata": {},
   "outputs": [
    {
     "data": {
      "application/vnd.jupyter.widget-view+json": {
       "model_id": "01695e1bb28142fca934a7bbc5d9d2ea",
       "version_major": 2,
       "version_minor": 0
      },
      "text/plain": [
       "Epochs:   0%|          | 0/20 [00:00<?, ?it/s]"
      ]
     },
     "metadata": {},
     "output_type": "display_data"
    },
    {
     "data": {
      "application/vnd.jupyter.widget-view+json": {
       "model_id": "799917ac3ca34f27972970c203ca47a8",
       "version_major": 2,
       "version_minor": 0
      },
      "text/plain": [
       "Batches:   0%|          | 0/52 [00:00<?, ?it/s]"
      ]
     },
     "metadata": {},
     "output_type": "display_data"
    },
    {
     "name": "stderr",
     "output_type": "stream",
     "text": [
      "/home/ayoubchoukri/anaconda3/envs/Personal/lib/python3.12/site-packages/torch/nn/modules/loss.py:608: UserWarning: Using a target size (torch.Size([128])) that is different to the input size (torch.Size([128, 1])). This will likely lead to incorrect results due to broadcasting. Please ensure they have the same size.\n",
      "  return F.mse_loss(input, target, reduction=self.reduction)\n",
      "/home/ayoubchoukri/anaconda3/envs/Personal/lib/python3.12/site-packages/torch/nn/modules/loss.py:608: UserWarning: Using a target size (torch.Size([63])) that is different to the input size (torch.Size([63, 1])). This will likely lead to incorrect results due to broadcasting. Please ensure they have the same size.\n",
      "  return F.mse_loss(input, target, reduction=self.reduction)\n"
     ]
    },
    {
     "data": {
      "application/vnd.jupyter.widget-view+json": {
       "model_id": "05e7a22298d7440ebdd669fb44814446",
       "version_major": 2,
       "version_minor": 0
      },
      "text/plain": [
       "Batches:   0%|          | 0/52 [00:00<?, ?it/s]"
      ]
     },
     "metadata": {},
     "output_type": "display_data"
    },
    {
     "name": "stdout",
     "output_type": "stream",
     "text": [
      "Epoch: 1/20 Train Loss: 3381.286 Test Loss: 397.949 \n"
     ]
    },
    {
     "data": {
      "application/vnd.jupyter.widget-view+json": {
       "model_id": "60207ad5976a4129a70e04d78db24e6c",
       "version_major": 2,
       "version_minor": 0
      },
      "text/plain": [
       "Batches:   0%|          | 0/52 [00:00<?, ?it/s]"
      ]
     },
     "metadata": {},
     "output_type": "display_data"
    },
    {
     "data": {
      "application/vnd.jupyter.widget-view+json": {
       "model_id": "00505b3cc0f642d2b4ed5116c448440d",
       "version_major": 2,
       "version_minor": 0
      },
      "text/plain": [
       "Batches:   0%|          | 0/52 [00:00<?, ?it/s]"
      ]
     },
     "metadata": {},
     "output_type": "display_data"
    },
    {
     "name": "stdout",
     "output_type": "stream",
     "text": [
      "Epoch: 2/20 Train Loss: 170.172 Test Loss: 142.824 \n"
     ]
    },
    {
     "data": {
      "application/vnd.jupyter.widget-view+json": {
       "model_id": "952d9b6ef46b449dacedf91e697b8431",
       "version_major": 2,
       "version_minor": 0
      },
      "text/plain": [
       "Batches:   0%|          | 0/52 [00:00<?, ?it/s]"
      ]
     },
     "metadata": {},
     "output_type": "display_data"
    },
    {
     "data": {
      "application/vnd.jupyter.widget-view+json": {
       "model_id": "a093b950f6354c9ba72b6b9452e8c5c2",
       "version_major": 2,
       "version_minor": 0
      },
      "text/plain": [
       "Batches:   0%|          | 0/52 [00:00<?, ?it/s]"
      ]
     },
     "metadata": {},
     "output_type": "display_data"
    },
    {
     "name": "stdout",
     "output_type": "stream",
     "text": [
      "Epoch: 3/20 Train Loss: 142.066 Test Loss: 141.815 \n"
     ]
    },
    {
     "data": {
      "application/vnd.jupyter.widget-view+json": {
       "model_id": "0adbe15f3331480aaf5077fafd6be239",
       "version_major": 2,
       "version_minor": 0
      },
      "text/plain": [
       "Batches:   0%|          | 0/52 [00:00<?, ?it/s]"
      ]
     },
     "metadata": {},
     "output_type": "display_data"
    },
    {
     "data": {
      "application/vnd.jupyter.widget-view+json": {
       "model_id": "129fece86ae3417e90b4457e222a7aab",
       "version_major": 2,
       "version_minor": 0
      },
      "text/plain": [
       "Batches:   0%|          | 0/52 [00:00<?, ?it/s]"
      ]
     },
     "metadata": {},
     "output_type": "display_data"
    },
    {
     "name": "stdout",
     "output_type": "stream",
     "text": [
      "Epoch: 4/20 Train Loss: 141.677 Test Loss: 141.137 \n"
     ]
    },
    {
     "data": {
      "application/vnd.jupyter.widget-view+json": {
       "model_id": "486c56cc88f04d94b0d34ac988acaea1",
       "version_major": 2,
       "version_minor": 0
      },
      "text/plain": [
       "Batches:   0%|          | 0/52 [00:00<?, ?it/s]"
      ]
     },
     "metadata": {},
     "output_type": "display_data"
    },
    {
     "data": {
      "application/vnd.jupyter.widget-view+json": {
       "model_id": "2aa311d6ede84083af9273b4a92d822b",
       "version_major": 2,
       "version_minor": 0
      },
      "text/plain": [
       "Batches:   0%|          | 0/52 [00:00<?, ?it/s]"
      ]
     },
     "metadata": {},
     "output_type": "display_data"
    },
    {
     "name": "stdout",
     "output_type": "stream",
     "text": [
      "Epoch: 5/20 Train Loss: 140.693 Test Loss: 140.287 \n"
     ]
    },
    {
     "data": {
      "application/vnd.jupyter.widget-view+json": {
       "model_id": "3cf57678b74648ebb1592da32e53f482",
       "version_major": 2,
       "version_minor": 0
      },
      "text/plain": [
       "Batches:   0%|          | 0/52 [00:00<?, ?it/s]"
      ]
     },
     "metadata": {},
     "output_type": "display_data"
    },
    {
     "data": {
      "application/vnd.jupyter.widget-view+json": {
       "model_id": "702937950f254175ba55c62a72825c00",
       "version_major": 2,
       "version_minor": 0
      },
      "text/plain": [
       "Batches:   0%|          | 0/52 [00:00<?, ?it/s]"
      ]
     },
     "metadata": {},
     "output_type": "display_data"
    },
    {
     "name": "stdout",
     "output_type": "stream",
     "text": [
      "Epoch: 6/20 Train Loss: 140.645 Test Loss: 141.709 \n"
     ]
    },
    {
     "data": {
      "application/vnd.jupyter.widget-view+json": {
       "model_id": "f2383c6b289344a1a50a17c9ee42760c",
       "version_major": 2,
       "version_minor": 0
      },
      "text/plain": [
       "Batches:   0%|          | 0/52 [00:00<?, ?it/s]"
      ]
     },
     "metadata": {},
     "output_type": "display_data"
    },
    {
     "data": {
      "application/vnd.jupyter.widget-view+json": {
       "model_id": "d4ca04c0cda447b3b3d0f0b8daa3e333",
       "version_major": 2,
       "version_minor": 0
      },
      "text/plain": [
       "Batches:   0%|          | 0/52 [00:00<?, ?it/s]"
      ]
     },
     "metadata": {},
     "output_type": "display_data"
    },
    {
     "name": "stdout",
     "output_type": "stream",
     "text": [
      "Epoch: 7/20 Train Loss: 140.649 Test Loss: 140.104 \n"
     ]
    },
    {
     "data": {
      "application/vnd.jupyter.widget-view+json": {
       "model_id": "955279b8d984413f82a4436d77fc54bc",
       "version_major": 2,
       "version_minor": 0
      },
      "text/plain": [
       "Batches:   0%|          | 0/52 [00:00<?, ?it/s]"
      ]
     },
     "metadata": {},
     "output_type": "display_data"
    },
    {
     "data": {
      "application/vnd.jupyter.widget-view+json": {
       "model_id": "8ae822ad8675466eaa6d0e34e08890de",
       "version_major": 2,
       "version_minor": 0
      },
      "text/plain": [
       "Batches:   0%|          | 0/52 [00:00<?, ?it/s]"
      ]
     },
     "metadata": {},
     "output_type": "display_data"
    },
    {
     "name": "stdout",
     "output_type": "stream",
     "text": [
      "Epoch: 8/20 Train Loss: 140.644 Test Loss: 139.688 \n"
     ]
    },
    {
     "data": {
      "application/vnd.jupyter.widget-view+json": {
       "model_id": "a743774115d54b9b963a81e57677588a",
       "version_major": 2,
       "version_minor": 0
      },
      "text/plain": [
       "Batches:   0%|          | 0/52 [00:00<?, ?it/s]"
      ]
     },
     "metadata": {},
     "output_type": "display_data"
    },
    {
     "data": {
      "application/vnd.jupyter.widget-view+json": {
       "model_id": "a6bd90051eab4d7c85dc229ec1a54f48",
       "version_major": 2,
       "version_minor": 0
      },
      "text/plain": [
       "Batches:   0%|          | 0/52 [00:00<?, ?it/s]"
      ]
     },
     "metadata": {},
     "output_type": "display_data"
    },
    {
     "name": "stdout",
     "output_type": "stream",
     "text": [
      "Epoch: 9/20 Train Loss: 139.872 Test Loss: 139.431 \n"
     ]
    },
    {
     "data": {
      "application/vnd.jupyter.widget-view+json": {
       "model_id": "dbae0c40d5b341e29c74eea68fff1e82",
       "version_major": 2,
       "version_minor": 0
      },
      "text/plain": [
       "Batches:   0%|          | 0/52 [00:00<?, ?it/s]"
      ]
     },
     "metadata": {},
     "output_type": "display_data"
    },
    {
     "data": {
      "application/vnd.jupyter.widget-view+json": {
       "model_id": "590f89390c72490a84b387c871c03e32",
       "version_major": 2,
       "version_minor": 0
      },
      "text/plain": [
       "Batches:   0%|          | 0/52 [00:00<?, ?it/s]"
      ]
     },
     "metadata": {},
     "output_type": "display_data"
    },
    {
     "name": "stdout",
     "output_type": "stream",
     "text": [
      "Epoch: 10/20 Train Loss: 139.190 Test Loss: 139.044 \n"
     ]
    },
    {
     "data": {
      "application/vnd.jupyter.widget-view+json": {
       "model_id": "f0558a81a6df41bcb12c67bdb895f0e8",
       "version_major": 2,
       "version_minor": 0
      },
      "text/plain": [
       "Batches:   0%|          | 0/52 [00:00<?, ?it/s]"
      ]
     },
     "metadata": {},
     "output_type": "display_data"
    },
    {
     "data": {
      "application/vnd.jupyter.widget-view+json": {
       "model_id": "2f108a03e9364a6eab00fa6494255868",
       "version_major": 2,
       "version_minor": 0
      },
      "text/plain": [
       "Batches:   0%|          | 0/52 [00:00<?, ?it/s]"
      ]
     },
     "metadata": {},
     "output_type": "display_data"
    },
    {
     "name": "stdout",
     "output_type": "stream",
     "text": [
      "Epoch: 11/20 Train Loss: 140.276 Test Loss: 139.049 \n"
     ]
    },
    {
     "data": {
      "application/vnd.jupyter.widget-view+json": {
       "model_id": "3db2132e47ca4280b92f38dcd03ad297",
       "version_major": 2,
       "version_minor": 0
      },
      "text/plain": [
       "Batches:   0%|          | 0/52 [00:00<?, ?it/s]"
      ]
     },
     "metadata": {},
     "output_type": "display_data"
    },
    {
     "data": {
      "application/vnd.jupyter.widget-view+json": {
       "model_id": "ff8a480626644d0598cc9b308bbd5ea5",
       "version_major": 2,
       "version_minor": 0
      },
      "text/plain": [
       "Batches:   0%|          | 0/52 [00:00<?, ?it/s]"
      ]
     },
     "metadata": {},
     "output_type": "display_data"
    },
    {
     "name": "stdout",
     "output_type": "stream",
     "text": [
      "Epoch: 12/20 Train Loss: 140.345 Test Loss: 138.476 \n"
     ]
    },
    {
     "data": {
      "application/vnd.jupyter.widget-view+json": {
       "model_id": "5dc173fb112c439bac770fb28eef4282",
       "version_major": 2,
       "version_minor": 0
      },
      "text/plain": [
       "Batches:   0%|          | 0/52 [00:00<?, ?it/s]"
      ]
     },
     "metadata": {},
     "output_type": "display_data"
    },
    {
     "data": {
      "application/vnd.jupyter.widget-view+json": {
       "model_id": "2ed52f2f083a4871b74fd50b29e8c024",
       "version_major": 2,
       "version_minor": 0
      },
      "text/plain": [
       "Batches:   0%|          | 0/52 [00:00<?, ?it/s]"
      ]
     },
     "metadata": {},
     "output_type": "display_data"
    },
    {
     "name": "stdout",
     "output_type": "stream",
     "text": [
      "Epoch: 13/20 Train Loss: 139.642 Test Loss: 138.870 \n"
     ]
    },
    {
     "data": {
      "application/vnd.jupyter.widget-view+json": {
       "model_id": "15dc4c197b8c45d5b0db66a89e2e55b9",
       "version_major": 2,
       "version_minor": 0
      },
      "text/plain": [
       "Batches:   0%|          | 0/52 [00:00<?, ?it/s]"
      ]
     },
     "metadata": {},
     "output_type": "display_data"
    },
    {
     "data": {
      "application/vnd.jupyter.widget-view+json": {
       "model_id": "45227dde93244c2abc9d90021f8319b2",
       "version_major": 2,
       "version_minor": 0
      },
      "text/plain": [
       "Batches:   0%|          | 0/52 [00:00<?, ?it/s]"
      ]
     },
     "metadata": {},
     "output_type": "display_data"
    },
    {
     "name": "stdout",
     "output_type": "stream",
     "text": [
      "Epoch: 14/20 Train Loss: 139.702 Test Loss: 139.610 \n"
     ]
    },
    {
     "data": {
      "application/vnd.jupyter.widget-view+json": {
       "model_id": "7efda98909534d8bb009cd73f196cd94",
       "version_major": 2,
       "version_minor": 0
      },
      "text/plain": [
       "Batches:   0%|          | 0/52 [00:00<?, ?it/s]"
      ]
     },
     "metadata": {},
     "output_type": "display_data"
    },
    {
     "data": {
      "application/vnd.jupyter.widget-view+json": {
       "model_id": "e397f34e0fef4e19801b25d1e4089471",
       "version_major": 2,
       "version_minor": 0
      },
      "text/plain": [
       "Batches:   0%|          | 0/52 [00:00<?, ?it/s]"
      ]
     },
     "metadata": {},
     "output_type": "display_data"
    },
    {
     "name": "stdout",
     "output_type": "stream",
     "text": [
      "Epoch: 15/20 Train Loss: 139.188 Test Loss: 138.943 \n"
     ]
    },
    {
     "data": {
      "application/vnd.jupyter.widget-view+json": {
       "model_id": "2632439063e94080921254986f99a3ab",
       "version_major": 2,
       "version_minor": 0
      },
      "text/plain": [
       "Batches:   0%|          | 0/52 [00:00<?, ?it/s]"
      ]
     },
     "metadata": {},
     "output_type": "display_data"
    },
    {
     "data": {
      "application/vnd.jupyter.widget-view+json": {
       "model_id": "ea6494cc0c654ac4b50fc9c93a21f805",
       "version_major": 2,
       "version_minor": 0
      },
      "text/plain": [
       "Batches:   0%|          | 0/52 [00:00<?, ?it/s]"
      ]
     },
     "metadata": {},
     "output_type": "display_data"
    },
    {
     "name": "stdout",
     "output_type": "stream",
     "text": [
      "Epoch: 16/20 Train Loss: 139.237 Test Loss: 139.135 \n"
     ]
    },
    {
     "data": {
      "application/vnd.jupyter.widget-view+json": {
       "model_id": "7f9d6519a73f4d11b20bded3662a3c5a",
       "version_major": 2,
       "version_minor": 0
      },
      "text/plain": [
       "Batches:   0%|          | 0/52 [00:00<?, ?it/s]"
      ]
     },
     "metadata": {},
     "output_type": "display_data"
    },
    {
     "data": {
      "application/vnd.jupyter.widget-view+json": {
       "model_id": "cb58e8bceb8049948f4acb80a2ae5087",
       "version_major": 2,
       "version_minor": 0
      },
      "text/plain": [
       "Batches:   0%|          | 0/52 [00:00<?, ?it/s]"
      ]
     },
     "metadata": {},
     "output_type": "display_data"
    },
    {
     "name": "stdout",
     "output_type": "stream",
     "text": [
      "Epoch: 17/20 Train Loss: 139.543 Test Loss: 138.051 \n"
     ]
    },
    {
     "data": {
      "application/vnd.jupyter.widget-view+json": {
       "model_id": "44be4b986940462ebfb80202789fde19",
       "version_major": 2,
       "version_minor": 0
      },
      "text/plain": [
       "Batches:   0%|          | 0/52 [00:00<?, ?it/s]"
      ]
     },
     "metadata": {},
     "output_type": "display_data"
    },
    {
     "data": {
      "application/vnd.jupyter.widget-view+json": {
       "model_id": "b9f1333fd5a04faabfceb17012eeac97",
       "version_major": 2,
       "version_minor": 0
      },
      "text/plain": [
       "Batches:   0%|          | 0/52 [00:00<?, ?it/s]"
      ]
     },
     "metadata": {},
     "output_type": "display_data"
    },
    {
     "name": "stdout",
     "output_type": "stream",
     "text": [
      "Epoch: 18/20 Train Loss: 138.547 Test Loss: 139.454 \n"
     ]
    },
    {
     "data": {
      "application/vnd.jupyter.widget-view+json": {
       "model_id": "592ef3cfe3694e3c8f5f0d56e49edce8",
       "version_major": 2,
       "version_minor": 0
      },
      "text/plain": [
       "Batches:   0%|          | 0/52 [00:00<?, ?it/s]"
      ]
     },
     "metadata": {},
     "output_type": "display_data"
    },
    {
     "data": {
      "application/vnd.jupyter.widget-view+json": {
       "model_id": "ba025c2862594825a5d1c134722f43e3",
       "version_major": 2,
       "version_minor": 0
      },
      "text/plain": [
       "Batches:   0%|          | 0/52 [00:00<?, ?it/s]"
      ]
     },
     "metadata": {},
     "output_type": "display_data"
    },
    {
     "name": "stdout",
     "output_type": "stream",
     "text": [
      "Epoch: 19/20 Train Loss: 138.616 Test Loss: 138.116 \n"
     ]
    },
    {
     "data": {
      "application/vnd.jupyter.widget-view+json": {
       "model_id": "adbd59dc9c4b4dde917088eed12c9b7f",
       "version_major": 2,
       "version_minor": 0
      },
      "text/plain": [
       "Batches:   0%|          | 0/52 [00:00<?, ?it/s]"
      ]
     },
     "metadata": {},
     "output_type": "display_data"
    },
    {
     "data": {
      "application/vnd.jupyter.widget-view+json": {
       "model_id": "5db38a68ad724fd38f8d768567c60c1a",
       "version_major": 2,
       "version_minor": 0
      },
      "text/plain": [
       "Batches:   0%|          | 0/52 [00:00<?, ?it/s]"
      ]
     },
     "metadata": {},
     "output_type": "display_data"
    },
    {
     "name": "stdout",
     "output_type": "stream",
     "text": [
      "Epoch: 20/20 Train Loss: 138.856 Test Loss: 138.455 \n"
     ]
    },
    {
     "data": {
      "text/plain": [
       "<Figure size 1500x1500 with 0 Axes>"
      ]
     },
     "metadata": {},
     "output_type": "display_data"
    },
    {
     "data": {
      "image/png": "[encoded data removed]",
      "text/plain": [
       "<Figure size 1500x1500 with 4 Axes>"
      ]
     },
     "metadata": {},
     "output_type": "display_data"
    },
    {
     "data": {
      "text/plain": [
       "<Figure size 640x480 with 0 Axes>"
      ]
     },
     "metadata": {},
     "output_type": "display_data"
    }
   ],
   "source": [
    "\n",
    "\n",
    "Device = torch.device(\"cpu\")\n",
    "Model = Model_MLP_Direct(\n",
    "    Atom_Vocab_Size=6,  # H, C, N, O, S\n",
    "    Embedding_Size=8,\n",
    "    Nb_Hidden_Layers=3,\n",
    "    Hidden_Layers_Size_List=[64, 32, 16],\n",
    "    Output_Dim=1,\n",
    "    Activation_Name='PReLU',\n",
    "    Nb_Atomes_Max_In_Molecule=23\n",
    ")\n",
    "\n",
    "Optimizer = torch.optim.Adam(Model.parameters(), lr=0.001)\n",
    "\n",
    "Criterion = nn.MSELoss()\n",
    "\n",
    "List_Train_Losses_Per_Epochs, List_Test_Losses_Per_Epochs, List_Train_Losses_Per_Batches, List_Test_Losses_Per_Batches = Train(\n",
    "    Model,\n",
    "    DataLoader_Train,\n",
    "    DataLoader_Train,\n",
    "    Optimizer,\n",
    "    Criterion,\n",
    "    Num_Epochs=20,\n",
    "    Device=Device\n",
    ")\n",
    "\n",
    "Plot_Losses(\n",
    "    List_Train_Losses_Per_Epochs,\n",
    "    List_Test_Losses_Per_Epochs,\n",
    "    List_Train_Losses_Per_Batches,\n",
    "    List_Test_Losses_Per_Batches,\n",
    "    Save=True,\n",
    "    Save_Path='losses_plot.png'\n",
    ")\n",
    "\n",
    "\n",
    "\n"
   ]
  },
  {
   "cell_type": "code",
   "execution_count": 135,
   "id": "34d42819",
   "metadata": {},
   "outputs": [
    {
     "data": {
      "text/plain": [
       "(7400,\n",
       " tensor([ 1.0000,  1.0000, -2.8448, -1.7277,  3.0458,  1.0000,  1.0000, -2.6854,\n",
       "         -0.7840,  4.2208,  1.0000,  1.0000, -1.6378, -1.9764,  2.1597,  1.0000,\n",
       "          0.0000, -1.9447, -1.1979,  4.9163,  1.0000,  0.0000, -1.5030, -1.0929,\n",
       "          1.4947,  1.0000,  1.0000, -2.2548,  0.6251,  3.8174,  1.0000,  0.0000,\n",
       "         -1.2917,  0.6165,  3.3105,  1.0000,  0.0000, -0.1756, -1.4717,  3.5216,\n",
       "          1.0000,  2.0000, -0.4188, -2.2578,  2.9242,  1.0000,  1.0000, -4.0251,\n",
       "         -2.3020,  2.7764,  1.0000,  0.0000, -3.6296, -0.7300,  4.7713,  1.0000,\n",
       "          0.0000, -1.8387, -2.8268,  1.4946,  1.0000,  0.0000, -2.9803,  1.0786,\n",
       "          3.1456,  1.0000,  0.0000, -4.9005, -2.1024,  3.3828,  1.0000,  0.0000,\n",
       "         -4.1414, -2.9888,  1.9462,  1.0000,  0.0000, -2.1653,  1.2629,  4.6946,\n",
       "          1.0000,  0.0000,  0.3594, -2.4380,  2.2952,  0.0000,  0.0000,  0.0000,\n",
       "          0.0000,  0.0000,  0.0000,  0.0000,  0.0000,  0.0000,  0.0000,  0.0000,\n",
       "          0.0000,  0.0000,  0.0000,  0.0000,  0.0000,  0.0000,  0.0000,  0.0000,\n",
       "          0.0000,  0.0000,  0.0000,  0.0000,  0.0000,  0.0000,  0.0000,  0.0000,\n",
       "          0.0000,  0.0000,  0.0000]),\n",
       " tensor(0.))"
      ]
     },
     "execution_count": 135,
     "metadata": {},
     "output_type": "execute_result"
    }
   ],
   "source": [
    "Dataset_Test[0]"
   ]
  },
  {
   "cell_type": "code",
   "execution_count": 136,
   "id": "f443c439",
   "metadata": {},
   "outputs": [],
   "source": [
    "# Compute the predictions on the test set\n",
    "\n",
    "def Compute_Predictions(Model, Dataset_Test, Device):\n",
    "    Model.eval()  # Set the model to evaluation mode\n",
    "    Model.to(Device)\n",
    "\n",
    "    Predictions = []\n",
    "    Ids = []\n",
    "\n",
    "    with torch.no_grad():\n",
    "        for Id, X,E in tqdm(Dataset_Test, desc=\"Computing Predictions\"):\n",
    "            X = X.to(Device)\n",
    "            Ids.append(Id)\n",
    "            output = Model(X.unsqueeze(0))  # Add batch dimension\n",
    "            Predictions.append(output.item())\n",
    "\n",
    "    return Ids, Predictions"
   ]
  },
  {
   "cell_type": "code",
   "execution_count": 137,
   "id": "83429cfc",
   "metadata": {},
   "outputs": [
    {
     "data": {
      "application/vnd.jupyter.widget-view+json": {
       "model_id": "17061031a15346db9e83f9ed610a217a",
       "version_major": 2,
       "version_minor": 0
      },
      "text/plain": [
       "Computing Predictions:   0%|          | 0/1647 [00:00<?, ?it/s]"
      ]
     },
     "metadata": {},
     "output_type": "display_data"
    }
   ],
   "source": [
    "Ids, Predictions = Compute_Predictions(Model, Dataset_Test, Device)"
   ]
  },
  {
   "cell_type": "code",
   "execution_count": 138,
   "id": "063b12a9",
   "metadata": {},
   "outputs": [
    {
     "data": {
      "text/plain": [
       "[-78.77276611328125,\n",
       " -76.36434173583984,\n",
       " -75.58988189697266,\n",
       " -78.0964584350586,\n",
       " -78.4811782836914,\n",
       " -77.87200164794922,\n",
       " -75.97513580322266,\n",
       " -78.07149505615234,\n",
       " -76.01065063476562,\n",
       " -76.12242889404297,\n",
       " -77.19620513916016,\n",
       " -77.3221435546875,\n",
       " -76.11743927001953,\n",
       " -77.58699035644531,\n",
       " -78.87227630615234,\n",
       " -78.39579010009766,\n",
       " -79.32099151611328,\n",
       " -78.56095886230469,\n",
       " -78.23529815673828,\n",
       " -77.7563705444336,\n",
       " -76.36663055419922,\n",
       " -77.1827163696289,\n",
       " -78.40288543701172,\n",
       " -77.3360824584961,\n",
       " -79.210693359375,\n",
       " -76.95914459228516,\n",
       " -74.73799896240234,\n",
       " -75.44849395751953,\n",
       " -76.81798553466797,\n",
       " -77.04447174072266,\n",
       " -76.25106048583984,\n",
       " -74.34555053710938,\n",
       " -75.69080352783203,\n",
       " -75.60738372802734,\n",
       " -77.54344940185547,\n",
       " -76.0228271484375,\n",
       " -75.59369659423828,\n",
       " -77.00118255615234,\n",
       " -76.0417251586914,\n",
       " -75.27413940429688,\n",
       " -79.02742767333984,\n",
       " -76.796142578125,\n",
       " -77.27911376953125,\n",
       " -77.86221313476562,\n",
       " -78.08409881591797,\n",
       " -76.49434661865234,\n",
       " -76.39466094970703,\n",
       " -78.96454620361328,\n",
       " -77.48029327392578,\n",
       " -77.1781234741211,\n",
       " -77.2971420288086,\n",
       " -77.59725952148438,\n",
       " -78.25535583496094,\n",
       " -74.97632598876953,\n",
       " -75.5447006225586,\n",
       " -77.6248550415039,\n",
       " -77.2996597290039,\n",
       " -75.65650177001953,\n",
       " -76.552734375,\n",
       " -76.9228515625,\n",
       " -74.2289810180664,\n",
       " -76.43656158447266,\n",
       " -77.0902099609375,\n",
       " -77.25739288330078,\n",
       " -73.46542358398438,\n",
       " -80.48950958251953,\n",
       " -74.87859344482422,\n",
       " -77.00206756591797,\n",
       " -76.15271759033203,\n",
       " -77.44226837158203,\n",
       " -75.92716217041016,\n",
       " -75.64147186279297,\n",
       " -75.77417755126953,\n",
       " -78.10221099853516,\n",
       " -79.86213684082031,\n",
       " -77.83379364013672,\n",
       " -74.63179779052734,\n",
       " -77.90878295898438,\n",
       " -77.17818450927734,\n",
       " -76.73076629638672,\n",
       " -76.97115325927734,\n",
       " -81.7853012084961,\n",
       " -79.91699981689453,\n",
       " -75.06116485595703,\n",
       " -75.59008026123047,\n",
       " -77.57389068603516,\n",
       " -78.935546875,\n",
       " -75.6430435180664,\n",
       " -76.52843475341797,\n",
       " -75.98148345947266,\n",
       " -77.04698944091797,\n",
       " -77.69036102294922,\n",
       " -79.32279205322266,\n",
       " -74.01964569091797,\n",
       " -78.81297302246094,\n",
       " -76.54959869384766,\n",
       " -78.93123626708984,\n",
       " -76.28968811035156,\n",
       " -76.0362319946289,\n",
       " -75.98358917236328,\n",
       " -79.87256622314453,\n",
       " -78.4458999633789,\n",
       " -75.08698272705078,\n",
       " -76.08518981933594,\n",
       " -76.15007781982422,\n",
       " -76.6465072631836,\n",
       " -77.91031646728516,\n",
       " -78.48680877685547,\n",
       " -78.385498046875,\n",
       " -77.05101013183594,\n",
       " -76.5865249633789,\n",
       " -78.03665161132812,\n",
       " -82.71875762939453,\n",
       " -77.08431243896484,\n",
       " -78.12836456298828,\n",
       " -77.6425552368164,\n",
       " -77.03190612792969,\n",
       " -77.7228775024414,\n",
       " -75.72859191894531,\n",
       " -77.43167877197266,\n",
       " -76.95010375976562,\n",
       " -75.85153198242188,\n",
       " -77.55745697021484,\n",
       " -77.82076263427734,\n",
       " -75.40227508544922,\n",
       " -75.2549057006836,\n",
       " -77.15131378173828,\n",
       " -76.86389923095703,\n",
       " -79.42671203613281,\n",
       " -81.04473114013672,\n",
       " -75.46795654296875,\n",
       " -75.14820098876953,\n",
       " -77.94296264648438,\n",
       " -77.577880859375,\n",
       " -72.77803802490234,\n",
       " -75.3775405883789,\n",
       " -75.96953582763672,\n",
       " -75.58135223388672,\n",
       " -77.93545532226562,\n",
       " -77.2804946899414,\n",
       " -77.0213851928711,\n",
       " -77.2626724243164,\n",
       " -76.26477813720703,\n",
       " -75.73262786865234,\n",
       " -76.4721908569336,\n",
       " -80.00589752197266,\n",
       " -77.03369903564453,\n",
       " -76.99380493164062,\n",
       " -78.73505401611328,\n",
       " -76.34867095947266,\n",
       " -76.6342544555664,\n",
       " -76.51920318603516,\n",
       " -76.43352508544922,\n",
       " -76.4928970336914,\n",
       " -74.79032135009766,\n",
       " -77.1734390258789,\n",
       " -78.9697265625,\n",
       " -77.6852035522461,\n",
       " -75.98572540283203,\n",
       " -77.26692962646484,\n",
       " -77.78521728515625,\n",
       " -76.68492126464844,\n",
       " -76.73534393310547,\n",
       " -75.48804473876953,\n",
       " -77.98925018310547,\n",
       " -78.00521850585938,\n",
       " -77.29125213623047,\n",
       " -79.6396255493164,\n",
       " -75.79418182373047,\n",
       " -77.7779769897461,\n",
       " -77.1854476928711,\n",
       " -75.63135528564453,\n",
       " -78.3479995727539,\n",
       " -76.35445404052734,\n",
       " -75.99990844726562,\n",
       " -75.51903533935547,\n",
       " -76.078857421875,\n",
       " -77.5921859741211,\n",
       " -74.64263916015625,\n",
       " -75.31705474853516,\n",
       " -79.79984283447266,\n",
       " -74.95211029052734,\n",
       " -79.32416534423828,\n",
       " -76.01226806640625,\n",
       " -76.52043914794922,\n",
       " -78.28921508789062,\n",
       " -78.42955780029297,\n",
       " -77.06230926513672,\n",
       " -75.74079895019531,\n",
       " -79.10063934326172,\n",
       " -79.72794342041016,\n",
       " -73.4951400756836,\n",
       " -81.3053207397461,\n",
       " -77.16439056396484,\n",
       " -75.3115005493164,\n",
       " -75.90776824951172,\n",
       " -77.6173095703125,\n",
       " -76.3017349243164,\n",
       " -76.87531280517578,\n",
       " -77.76971435546875,\n",
       " -75.82674407958984,\n",
       " -75.46900177001953,\n",
       " -77.32290649414062,\n",
       " -77.04692840576172,\n",
       " -77.12410736083984,\n",
       " -77.6886978149414,\n",
       " -77.17364501953125,\n",
       " -76.2143783569336,\n",
       " -76.49169921875,\n",
       " -73.4837417602539,\n",
       " -73.83332824707031,\n",
       " -75.78572082519531,\n",
       " -76.0413589477539,\n",
       " -76.80509185791016,\n",
       " -76.98859405517578,\n",
       " -77.51862335205078,\n",
       " -76.1322250366211,\n",
       " -76.79381561279297,\n",
       " -76.2731704711914,\n",
       " -77.390380859375,\n",
       " -77.43309783935547,\n",
       " -79.51509094238281,\n",
       " -75.7212905883789,\n",
       " -77.53885650634766,\n",
       " -77.24560546875,\n",
       " -74.92842864990234,\n",
       " -78.5740966796875,\n",
       " -78.23546600341797,\n",
       " -74.59553527832031,\n",
       " -76.69122314453125,\n",
       " -77.25090789794922,\n",
       " -80.79215240478516,\n",
       " -75.48262786865234,\n",
       " -77.44342803955078,\n",
       " -76.37610626220703,\n",
       " -74.93766021728516,\n",
       " -77.44458770751953,\n",
       " -75.57942199707031,\n",
       " -77.25083923339844,\n",
       " -76.78855895996094,\n",
       " -78.12393188476562,\n",
       " -78.41665649414062,\n",
       " -77.8725357055664,\n",
       " -77.67139434814453,\n",
       " -77.39427947998047,\n",
       " -76.01611328125,\n",
       " -79.9408950805664,\n",
       " -76.92974090576172,\n",
       " -75.61957550048828,\n",
       " -75.88236236572266,\n",
       " -78.86255645751953,\n",
       " -77.79515838623047,\n",
       " -76.29737854003906,\n",
       " -77.76004791259766,\n",
       " -77.73155212402344,\n",
       " -77.11682891845703,\n",
       " -78.05638885498047,\n",
       " -78.37012481689453,\n",
       " -75.86656188964844,\n",
       " -76.315673828125,\n",
       " -77.38593292236328,\n",
       " -76.10002136230469,\n",
       " -79.52677154541016,\n",
       " -75.1023941040039,\n",
       " -76.81803131103516,\n",
       " -76.06440734863281,\n",
       " -77.6669692993164,\n",
       " -75.05233001708984,\n",
       " -74.72089385986328,\n",
       " -77.24525451660156,\n",
       " -79.08847045898438,\n",
       " -77.81682586669922,\n",
       " -77.384033203125,\n",
       " -76.13893127441406,\n",
       " -76.18573760986328,\n",
       " -75.48722839355469,\n",
       " -77.24342346191406,\n",
       " -77.36119842529297,\n",
       " -76.91765594482422,\n",
       " -76.20209503173828,\n",
       " -74.0234146118164,\n",
       " -78.6661148071289,\n",
       " -78.08733367919922,\n",
       " -75.8041000366211,\n",
       " -80.24031829833984,\n",
       " -76.92906951904297,\n",
       " -73.43555450439453,\n",
       " -77.21527862548828,\n",
       " -77.43016815185547,\n",
       " -74.2268295288086,\n",
       " -77.73721313476562,\n",
       " -76.86559295654297,\n",
       " -78.4062271118164,\n",
       " -76.81153106689453,\n",
       " -77.32574462890625,\n",
       " -76.61326599121094,\n",
       " -78.4164047241211,\n",
       " -76.32927703857422,\n",
       " -76.50284576416016,\n",
       " -77.31018829345703,\n",
       " -75.6982650756836,\n",
       " -78.7080078125,\n",
       " -76.51444244384766,\n",
       " -75.95130157470703,\n",
       " -78.59972381591797,\n",
       " -76.34405517578125,\n",
       " -78.31043243408203,\n",
       " -78.50807189941406,\n",
       " -78.24085235595703,\n",
       " -77.46422576904297,\n",
       " -77.21083068847656,\n",
       " -76.28206634521484,\n",
       " -75.38788604736328,\n",
       " -78.73951721191406,\n",
       " -75.77954864501953,\n",
       " -77.24044036865234,\n",
       " -78.3031997680664,\n",
       " -77.23995208740234,\n",
       " -77.03143310546875,\n",
       " -78.18122863769531,\n",
       " -78.09966278076172,\n",
       " -78.7515640258789,\n",
       " -78.37892150878906,\n",
       " -77.6520004272461,\n",
       " -79.24011993408203,\n",
       " -76.98451232910156,\n",
       " -76.45861053466797,\n",
       " -76.8604965209961,\n",
       " -76.76520538330078,\n",
       " -76.93550109863281,\n",
       " -76.36305236816406,\n",
       " -76.92677307128906,\n",
       " -77.51314544677734,\n",
       " -76.55038452148438,\n",
       " -81.27605438232422,\n",
       " -75.4992904663086,\n",
       " -77.06851959228516,\n",
       " -76.66630554199219,\n",
       " -76.3941879272461,\n",
       " -75.04833984375,\n",
       " -77.42467498779297,\n",
       " -76.74918365478516,\n",
       " -78.12037658691406,\n",
       " -75.69849395751953,\n",
       " -79.05611419677734,\n",
       " -77.88275146484375,\n",
       " -76.35503387451172,\n",
       " -77.04080963134766,\n",
       " -76.14493560791016,\n",
       " -75.07852935791016,\n",
       " -75.68859100341797,\n",
       " -77.85930633544922,\n",
       " -75.95087432861328,\n",
       " -77.51200103759766,\n",
       " -77.01698303222656,\n",
       " -75.70316314697266,\n",
       " -76.95452117919922,\n",
       " -76.00182342529297,\n",
       " -79.00292205810547,\n",
       " -75.8246078491211,\n",
       " -78.525390625,\n",
       " -77.58040618896484,\n",
       " -76.7505111694336,\n",
       " -76.37281036376953,\n",
       " -75.08932495117188,\n",
       " -79.8534927368164,\n",
       " -75.8565444946289,\n",
       " -76.36067962646484,\n",
       " -75.9006576538086,\n",
       " -78.7888412475586,\n",
       " -77.0477294921875,\n",
       " -78.08131408691406,\n",
       " -76.0180892944336,\n",
       " -76.94144439697266,\n",
       " -77.54879760742188,\n",
       " -77.32567596435547,\n",
       " -80.2108383178711,\n",
       " -75.5688247680664,\n",
       " -76.16268920898438,\n",
       " -79.56375122070312,\n",
       " -77.12106323242188,\n",
       " -76.7526626586914,\n",
       " -78.6546401977539,\n",
       " -77.4515609741211,\n",
       " -78.96208190917969,\n",
       " -77.33360290527344,\n",
       " -72.91555786132812,\n",
       " -77.9320297241211,\n",
       " -75.55525970458984,\n",
       " -76.13153076171875,\n",
       " -75.41548156738281,\n",
       " -78.87055206298828,\n",
       " -75.2447280883789,\n",
       " -75.60840606689453,\n",
       " -76.01809692382812,\n",
       " -73.81434631347656,\n",
       " -79.71749114990234,\n",
       " -75.63074493408203,\n",
       " -76.33956146240234,\n",
       " -77.64912414550781,\n",
       " -76.61157989501953,\n",
       " -79.49991607666016,\n",
       " -75.50147247314453,\n",
       " -78.2659683227539,\n",
       " -78.23629760742188,\n",
       " -77.7121353149414,\n",
       " -79.56131744384766,\n",
       " -77.2135009765625,\n",
       " -78.6162338256836,\n",
       " -74.85889434814453,\n",
       " -76.48802185058594,\n",
       " -77.63097381591797,\n",
       " -79.41443634033203,\n",
       " -76.94585418701172,\n",
       " -78.29777526855469,\n",
       " -78.68477630615234,\n",
       " -79.65108489990234,\n",
       " -75.90951538085938,\n",
       " -79.33893585205078,\n",
       " -74.83116912841797,\n",
       " -78.69580078125,\n",
       " -77.58637237548828,\n",
       " -75.27791595458984,\n",
       " -76.31175994873047,\n",
       " -74.56316375732422,\n",
       " -76.5531005859375,\n",
       " -76.27894592285156,\n",
       " -78.07573699951172,\n",
       " -77.09740447998047,\n",
       " -77.84244537353516,\n",
       " -78.49600982666016,\n",
       " -78.44160461425781,\n",
       " -77.34512329101562,\n",
       " -76.92058563232422,\n",
       " -76.68987274169922,\n",
       " -75.47149658203125,\n",
       " -77.33602142333984,\n",
       " -77.2423095703125,\n",
       " -79.39949035644531,\n",
       " -78.00698852539062,\n",
       " -77.29391479492188,\n",
       " -76.22920227050781,\n",
       " -77.46028900146484,\n",
       " -76.19621276855469,\n",
       " -77.33812713623047,\n",
       " -76.64839172363281,\n",
       " -76.37467193603516,\n",
       " -75.5485610961914,\n",
       " -75.71166229248047,\n",
       " -79.23121643066406,\n",
       " -77.29702758789062,\n",
       " -75.72087860107422,\n",
       " -79.99663543701172,\n",
       " -76.5097885131836,\n",
       " -76.99126434326172,\n",
       " -73.99882507324219,\n",
       " -75.75169372558594,\n",
       " -75.3863296508789,\n",
       " -77.01688385009766,\n",
       " -77.20501708984375,\n",
       " -78.25421905517578,\n",
       " -78.50737762451172,\n",
       " -77.3116455078125,\n",
       " -77.0899887084961,\n",
       " -76.6308822631836,\n",
       " -76.83065795898438,\n",
       " -77.04811096191406,\n",
       " -78.42923736572266,\n",
       " -76.47301483154297,\n",
       " -76.57355499267578,\n",
       " -76.64559173583984,\n",
       " -76.78943634033203,\n",
       " -76.99019622802734,\n",
       " -76.5543212890625,\n",
       " -76.61165618896484,\n",
       " -77.51506805419922,\n",
       " -76.29447937011719,\n",
       " -72.83232879638672,\n",
       " -77.43085479736328,\n",
       " -75.96043395996094,\n",
       " -79.11925506591797,\n",
       " -76.46442413330078,\n",
       " -78.88408660888672,\n",
       " -76.74492645263672,\n",
       " -78.15457916259766,\n",
       " -77.6124496459961,\n",
       " -77.00376892089844,\n",
       " -78.01705169677734,\n",
       " -77.39209747314453,\n",
       " -75.39936065673828,\n",
       " -77.14159393310547,\n",
       " -76.27165222167969,\n",
       " -77.60393524169922,\n",
       " -77.74217987060547,\n",
       " -75.11492156982422,\n",
       " -77.97602081298828,\n",
       " -74.4942398071289,\n",
       " -74.61621856689453,\n",
       " -78.6906509399414,\n",
       " -76.96162414550781,\n",
       " -76.22637939453125,\n",
       " -77.30171966552734,\n",
       " -77.89228820800781,\n",
       " -77.86421966552734,\n",
       " -77.5988540649414,\n",
       " -76.46422576904297,\n",
       " -76.36185455322266,\n",
       " -77.71176147460938,\n",
       " -77.06005096435547,\n",
       " -77.02692413330078,\n",
       " -75.6913833618164,\n",
       " -79.86663055419922,\n",
       " -75.46715545654297,\n",
       " -76.93013763427734,\n",
       " -77.66101837158203,\n",
       " -77.57867431640625,\n",
       " -80.68401336669922,\n",
       " -77.95289611816406,\n",
       " -78.32173919677734,\n",
       " -74.50635528564453,\n",
       " -77.1561508178711,\n",
       " -77.87792205810547,\n",
       " -77.21401977539062,\n",
       " -77.11363983154297,\n",
       " -75.7495346069336,\n",
       " -76.41108703613281,\n",
       " -77.44805908203125,\n",
       " -76.10931396484375,\n",
       " -75.4452896118164,\n",
       " -76.95164489746094,\n",
       " -76.78069305419922,\n",
       " -75.49268341064453,\n",
       " -77.63533782958984,\n",
       " -77.12791442871094,\n",
       " -75.45423126220703,\n",
       " -77.7945327758789,\n",
       " -81.99190521240234,\n",
       " -75.43810272216797,\n",
       " -77.81352996826172,\n",
       " -76.76107788085938,\n",
       " -75.65808868408203,\n",
       " -75.92640686035156,\n",
       " -77.70174407958984,\n",
       " -77.49188995361328,\n",
       " -76.78728485107422,\n",
       " -78.26770782470703,\n",
       " -77.17430877685547,\n",
       " -77.35900115966797,\n",
       " -77.83645629882812,\n",
       " -76.86963653564453,\n",
       " -77.42313385009766,\n",
       " -76.56046295166016,\n",
       " -76.45892333984375,\n",
       " -76.10499572753906,\n",
       " -75.55558013916016,\n",
       " -78.32222747802734,\n",
       " -77.17216491699219,\n",
       " -76.78496551513672,\n",
       " -78.27379608154297,\n",
       " -77.72379302978516,\n",
       " -76.50743865966797,\n",
       " -75.98197174072266,\n",
       " -78.4366226196289,\n",
       " -75.45986938476562,\n",
       " -77.76004791259766,\n",
       " -75.41808319091797,\n",
       " -75.75550079345703,\n",
       " -77.90640258789062,\n",
       " -77.91505432128906,\n",
       " -77.84954071044922,\n",
       " -78.61565399169922,\n",
       " -74.58390045166016,\n",
       " -77.2335205078125,\n",
       " -77.59750366210938,\n",
       " -77.97396850585938,\n",
       " -77.4815902709961,\n",
       " -79.25619506835938,\n",
       " -76.83877563476562,\n",
       " -74.79060363769531,\n",
       " -75.03524017333984,\n",
       " -78.60800170898438,\n",
       " -77.19506072998047,\n",
       " -78.01691436767578,\n",
       " -76.71045684814453,\n",
       " -75.69278717041016,\n",
       " -74.14585876464844,\n",
       " -81.01204681396484,\n",
       " -77.94037628173828,\n",
       " -75.61177825927734,\n",
       " -77.85405731201172,\n",
       " -76.918212890625,\n",
       " -78.78254699707031,\n",
       " -77.0717544555664,\n",
       " -76.63509368896484,\n",
       " -78.15587615966797,\n",
       " -75.23262786865234,\n",
       " -74.5553970336914,\n",
       " -75.87215423583984,\n",
       " -75.77362823486328,\n",
       " -76.93891143798828,\n",
       " -75.2463150024414,\n",
       " -77.3397445678711,\n",
       " -76.0416030883789,\n",
       " -76.98827362060547,\n",
       " -79.4758529663086,\n",
       " -77.74808502197266,\n",
       " -76.99654388427734,\n",
       " -75.6076889038086,\n",
       " -80.80294799804688,\n",
       " -75.41158294677734,\n",
       " -76.96259307861328,\n",
       " -78.7041244506836,\n",
       " -79.24103546142578,\n",
       " -77.21649932861328,\n",
       " -77.62342071533203,\n",
       " -76.84571838378906,\n",
       " -76.39197540283203,\n",
       " -78.2633285522461,\n",
       " -77.0126724243164,\n",
       " -76.25199127197266,\n",
       " -77.82416534423828,\n",
       " -80.09445190429688,\n",
       " -78.28863525390625,\n",
       " -80.41824340820312,\n",
       " -77.72724151611328,\n",
       " -81.36013793945312,\n",
       " -78.90819549560547,\n",
       " -76.01568603515625,\n",
       " -77.41204071044922,\n",
       " -76.16624450683594,\n",
       " -77.01851654052734,\n",
       " -79.32251739501953,\n",
       " -76.7088623046875,\n",
       " -78.99455261230469,\n",
       " -74.66101837158203,\n",
       " -80.84015655517578,\n",
       " -76.49018859863281,\n",
       " -76.7453842163086,\n",
       " -78.30963134765625,\n",
       " -74.41779327392578,\n",
       " -82.05401611328125,\n",
       " -76.52738189697266,\n",
       " -76.63455963134766,\n",
       " -78.9515151977539,\n",
       " -79.36766052246094,\n",
       " -76.43156433105469,\n",
       " -77.37310028076172,\n",
       " -79.35374450683594,\n",
       " -76.91840362548828,\n",
       " -76.03797149658203,\n",
       " -76.57828521728516,\n",
       " -77.46102905273438,\n",
       " -75.09151458740234,\n",
       " -75.05757904052734,\n",
       " -77.07172393798828,\n",
       " -76.75485229492188,\n",
       " -76.6273193359375,\n",
       " -77.87577056884766,\n",
       " -77.20890045166016,\n",
       " -77.5060806274414,\n",
       " -78.65991973876953,\n",
       " -78.7315673828125,\n",
       " -78.43212127685547,\n",
       " -73.68142700195312,\n",
       " -74.85999298095703,\n",
       " -79.73887634277344,\n",
       " -77.7936019897461,\n",
       " -76.05522918701172,\n",
       " -72.68981170654297,\n",
       " -78.06543731689453,\n",
       " -77.51385498046875,\n",
       " -77.99480438232422,\n",
       " -75.7020034790039,\n",
       " -79.62574768066406,\n",
       " -77.50203704833984,\n",
       " -77.77806854248047,\n",
       " -76.03636932373047,\n",
       " -75.81327056884766,\n",
       " -76.55873107910156,\n",
       " -78.10262298583984,\n",
       " -76.61383056640625,\n",
       " -77.1924057006836,\n",
       " -78.16402435302734,\n",
       " -73.9658432006836,\n",
       " -79.47188568115234,\n",
       " -76.1435546875,\n",
       " -76.1333999633789,\n",
       " -75.8288803100586,\n",
       " -76.91275787353516,\n",
       " -77.63799285888672,\n",
       " -77.01651000976562,\n",
       " -77.66645050048828,\n",
       " -78.68897247314453,\n",
       " -75.75373077392578,\n",
       " -77.6634521484375,\n",
       " -77.9600601196289,\n",
       " -77.80672454833984,\n",
       " -77.45883178710938,\n",
       " -77.4914321899414,\n",
       " -79.07156372070312,\n",
       " -78.92134857177734,\n",
       " -76.26814270019531,\n",
       " -77.5672607421875,\n",
       " -77.03536224365234,\n",
       " -76.51947784423828,\n",
       " -75.59687042236328,\n",
       " -77.01944732666016,\n",
       " -75.08714294433594,\n",
       " -77.65592956542969,\n",
       " -76.3713607788086,\n",
       " -77.3935317993164,\n",
       " -76.5748519897461,\n",
       " -76.21746063232422,\n",
       " -77.93492126464844,\n",
       " -81.24573516845703,\n",
       " -76.87726593017578,\n",
       " -75.64411163330078,\n",
       " -75.99629974365234,\n",
       " -77.44964599609375,\n",
       " -77.48375701904297,\n",
       " -76.11400604248047,\n",
       " -76.88259887695312,\n",
       " -77.77058410644531,\n",
       " -75.86177062988281,\n",
       " -77.98320770263672,\n",
       " -77.30467224121094,\n",
       " -76.66124725341797,\n",
       " -77.16161346435547,\n",
       " -78.07164764404297,\n",
       " -79.4793930053711,\n",
       " -77.24517059326172,\n",
       " -76.87915802001953,\n",
       " -75.88402557373047,\n",
       " -76.74645233154297,\n",
       " -74.38697052001953,\n",
       " -78.35205841064453,\n",
       " -77.22398376464844,\n",
       " -73.76892852783203,\n",
       " -76.03005981445312,\n",
       " -78.30335235595703,\n",
       " -77.6049575805664,\n",
       " -77.87549591064453,\n",
       " -75.04497528076172,\n",
       " -76.6216049194336,\n",
       " -76.4791030883789,\n",
       " -78.12928009033203,\n",
       " -77.1185531616211,\n",
       " -75.7249526977539,\n",
       " -78.60558319091797,\n",
       " -77.6451644897461,\n",
       " -75.87566375732422,\n",
       " -77.76863098144531,\n",
       " -79.01494598388672,\n",
       " -75.0233383178711,\n",
       " -74.6271743774414,\n",
       " -78.31816101074219,\n",
       " -77.36341094970703,\n",
       " -76.73722076416016,\n",
       " -75.96021270751953,\n",
       " -78.06571197509766,\n",
       " -75.64734649658203,\n",
       " -76.16498565673828,\n",
       " -73.17139434814453,\n",
       " -75.67066955566406,\n",
       " -76.68597412109375,\n",
       " -73.7442398071289,\n",
       " -78.74795532226562,\n",
       " -76.66683197021484,\n",
       " -77.37023162841797,\n",
       " -77.16764068603516,\n",
       " -73.41549682617188,\n",
       " -77.3244857788086,\n",
       " -78.25045013427734,\n",
       " -75.9346694946289,\n",
       " -76.27638244628906,\n",
       " -75.80591583251953,\n",
       " -77.26117706298828,\n",
       " -75.34071350097656,\n",
       " -77.7422866821289,\n",
       " -77.81352996826172,\n",
       " -79.70751953125,\n",
       " -78.09061431884766,\n",
       " -77.04490661621094,\n",
       " -79.31234741210938,\n",
       " -76.08100891113281,\n",
       " -78.642333984375,\n",
       " -77.05801391601562,\n",
       " -78.20442199707031,\n",
       " -75.16816711425781,\n",
       " -76.22386932373047,\n",
       " -77.3357925415039,\n",
       " -78.9081039428711,\n",
       " -76.99506378173828,\n",
       " -76.90502166748047,\n",
       " -78.08757019042969,\n",
       " -75.97856903076172,\n",
       " -78.78449249267578,\n",
       " -77.42631530761719,\n",
       " -78.49164581298828,\n",
       " -76.7458724975586,\n",
       " -78.19152069091797,\n",
       " -77.70975494384766,\n",
       " -75.47112274169922,\n",
       " -77.35979461669922,\n",
       " -80.83271026611328,\n",
       " -79.4107437133789,\n",
       " -74.0062484741211,\n",
       " -77.53462219238281,\n",
       " -77.08499908447266,\n",
       " -78.01762390136719,\n",
       " -76.56578063964844,\n",
       " -76.6047134399414,\n",
       " -77.27472686767578,\n",
       " -77.34882354736328,\n",
       " -77.4433364868164,\n",
       " -78.11731719970703,\n",
       " -76.23077392578125,\n",
       " -76.9618148803711,\n",
       " -78.16696166992188,\n",
       " -74.38568115234375,\n",
       " -76.78138732910156,\n",
       " -82.1829605102539,\n",
       " -77.19591522216797,\n",
       " -76.89179229736328,\n",
       " -75.55176544189453,\n",
       " -75.81087493896484,\n",
       " -76.83346557617188,\n",
       " -76.89364624023438,\n",
       " -78.02118682861328,\n",
       " -78.20511627197266,\n",
       " -76.80847930908203,\n",
       " -81.22863006591797,\n",
       " -81.92491149902344,\n",
       " -76.58516693115234,\n",
       " -78.18303680419922,\n",
       " -79.40364837646484,\n",
       " -77.55416870117188,\n",
       " -79.46393585205078,\n",
       " -77.08820343017578,\n",
       " -79.31067657470703,\n",
       " -78.06649017333984,\n",
       " -78.47893524169922,\n",
       " -76.16898345947266,\n",
       " -75.93569946289062,\n",
       " -75.88067626953125,\n",
       " -75.99552154541016,\n",
       " -78.98617553710938,\n",
       " -76.31653594970703,\n",
       " -78.00479125976562,\n",
       " -78.1769790649414,\n",
       " -78.05045318603516,\n",
       " -76.19574737548828,\n",
       " -76.96878814697266,\n",
       " -74.26342010498047,\n",
       " -77.3130111694336,\n",
       " -73.6713638305664,\n",
       " -79.66931915283203,\n",
       " -78.30411529541016,\n",
       " -75.83942413330078,\n",
       " -76.50940704345703,\n",
       " -77.2562484741211,\n",
       " -77.55838012695312,\n",
       " -78.05706787109375,\n",
       " -77.71220397949219,\n",
       " -78.06967163085938,\n",
       " -76.06343841552734,\n",
       " -75.8203353881836,\n",
       " -79.07801818847656,\n",
       " -74.48149108886719,\n",
       " -80.98014068603516,\n",
       " -77.31990814208984,\n",
       " -78.45735931396484,\n",
       " -76.70642852783203,\n",
       " -75.09503936767578,\n",
       " -75.00907897949219,\n",
       " -76.4113540649414,\n",
       " -76.54090118408203,\n",
       " -77.38263702392578,\n",
       " -78.8104019165039,\n",
       " -77.38004302978516,\n",
       " -75.6683578491211,\n",
       " -77.33870697021484,\n",
       " -75.6660385131836,\n",
       " -77.76285552978516,\n",
       " -76.55875396728516,\n",
       " -77.73751068115234,\n",
       " -75.39985656738281,\n",
       " -77.45622253417969,\n",
       " -76.31256103515625,\n",
       " -76.02625274658203,\n",
       " -80.24060821533203,\n",
       " -75.8006820678711,\n",
       " -77.0657958984375,\n",
       " -73.90052032470703,\n",
       " -75.33931732177734,\n",
       " -76.7755126953125,\n",
       " -78.94691467285156,\n",
       " -77.76155853271484,\n",
       " -78.33165740966797,\n",
       " -76.0805892944336,\n",
       " -76.52457427978516,\n",
       " -76.89527893066406,\n",
       " -75.36974334716797,\n",
       " -76.85132598876953,\n",
       " -79.34508514404297,\n",
       " -77.65204620361328,\n",
       " -77.53583526611328,\n",
       " -77.4122543334961,\n",
       " -76.12358856201172,\n",
       " -77.8927993774414,\n",
       " -82.12610626220703,\n",
       " -78.04706573486328,\n",
       " -77.9763412475586,\n",
       " -79.8321762084961,\n",
       " -78.22663116455078,\n",
       " -77.97689056396484,\n",
       " -77.58098602294922,\n",
       " -76.87039947509766,\n",
       " -79.7584457397461,\n",
       " -77.6385269165039,\n",
       " -76.9739761352539,\n",
       " -78.19535064697266,\n",
       " -77.13050079345703,\n",
       " -78.34158325195312,\n",
       " -75.29608917236328,\n",
       " -76.25045013427734,\n",
       " -77.21929168701172,\n",
       " -78.20130920410156,\n",
       " -77.50904083251953,\n",
       " -77.28466033935547,\n",
       " -76.92716217041016,\n",
       " -76.37203216552734,\n",
       " -79.51223754882812,\n",
       " -75.32422637939453,\n",
       " -77.31884002685547,\n",
       " -77.74954986572266,\n",
       " -79.39330291748047,\n",
       " -77.90279388427734,\n",
       " -77.74065399169922,\n",
       " -76.66815185546875,\n",
       " -76.64054107666016,\n",
       " -76.00933837890625,\n",
       " -76.60254669189453,\n",
       " -79.86470031738281,\n",
       " -76.6972427368164,\n",
       " -76.19664764404297,\n",
       " -76.72306060791016,\n",
       " -75.31195831298828,\n",
       " -75.63806915283203,\n",
       " -77.18399810791016,\n",
       " -75.20818328857422,\n",
       " -78.5565414428711,\n",
       " -78.3572998046875,\n",
       " -76.63587188720703,\n",
       " -76.7726058959961,\n",
       " -76.91655731201172,\n",
       " -76.31664276123047,\n",
       " -78.39945220947266,\n",
       " -76.91631317138672,\n",
       " -76.87847137451172,\n",
       " -77.80977630615234,\n",
       " -76.41767120361328,\n",
       " -75.22746276855469,\n",
       " -77.25865936279297,\n",
       " -77.38123321533203,\n",
       " -76.3597412109375,\n",
       " -76.99590301513672,\n",
       " -76.4219741821289,\n",
       " -78.19266510009766,\n",
       " -76.41809844970703,\n",
       " -76.44428253173828,\n",
       " -76.97784423828125,\n",
       " -76.4443130493164,\n",
       " -75.35675811767578,\n",
       " -76.78374481201172,\n",
       " -79.61290740966797,\n",
       " -77.33341217041016,\n",
       " -76.26839447021484,\n",
       " -77.3420181274414,\n",
       " -76.57457733154297,\n",
       " -76.47728729248047,\n",
       " -75.16273498535156,\n",
       " -78.48345947265625,\n",
       " -77.33352661132812,\n",
       " -76.2604751586914,\n",
       " -75.24280548095703,\n",
       " -77.47689056396484,\n",
       " -77.35247802734375,\n",
       " -76.53009796142578,\n",
       " -79.2242202758789,\n",
       " -77.81971740722656,\n",
       " -77.41698455810547,\n",
       " -77.40436553955078,\n",
       " -77.6422348022461,\n",
       " -77.81328582763672,\n",
       " -76.53540802001953,\n",
       " -77.24101257324219,\n",
       " -77.25525665283203,\n",
       " -79.3960952758789,\n",
       " -75.6042251586914,\n",
       " ...]"
      ]
     },
     "execution_count": 138,
     "metadata": {},
     "output_type": "execute_result"
    }
   ],
   "source": [
    "Predictions"
   ]
  },
  {
   "cell_type": "code",
   "execution_count": 141,
   "id": "a8efbd63",
   "metadata": {},
   "outputs": [
    {
     "name": "stdout",
     "output_type": "stream",
     "text": [
      "Predictions saved to predictions.csv\n"
     ]
    }
   ],
   "source": [
    "# create a csv file with the predictions\n",
    "\n",
    "import pandas as pd\n",
    "def Save_Predictions_To_CSV(Ids, Predictions, Output_CSV_Path):\n",
    "    df = pd.DataFrame({\n",
    "        'id': Ids,\n",
    "        'energy': Predictions\n",
    "    })\n",
    "        # sort the dataframe by id\n",
    "    df.sort_values(by='id', inplace=True)\n",
    "    df.to_csv(Output_CSV_Path, index=False)\n",
    "\n",
    "\n",
    "    print(f\"Predictions saved to {Output_CSV_Path}\")\n",
    "\n",
    "Save_Predictions_To_CSV(Ids, Predictions, 'predictions.csv')"
   ]
  },
  {
   "cell_type": "code",
   "execution_count": 162,
   "id": "16bb8444",
   "metadata": {},
   "outputs": [
    {
     "name": "stdout",
     "output_type": "stream",
     "text": [
      "Original:\n",
      " [[0. 0. 0.]\n",
      " [5. 0. 0.]\n",
      " [0. 1. 0.]]\n",
      "Transformé:\n",
      " [[ 3.4398777 -4.6810465  3.684741 ]\n",
      " [ 8.436922  -4.6100144  3.841261 ]\n",
      " [ 3.4258347 -3.68116    3.679314 ]]\n",
      "\n",
      "Distances originales: [5.         1.         5.09901951]\n",
      "Distances transformées: [5.        0.9999998 5.0990186]\n",
      "\n",
      "✅ La rotation conserve les distances : test réussi.\n"
     ]
    },
    {
     "data": {
      "image/png": "[encoded data removed]",
      "text/plain": [
       "<Figure size 1000x500 with 2 Axes>"
      ]
     },
     "metadata": {},
     "output_type": "display_data"
    }
   ],
   "source": [
    "import numpy as np\n",
    "\n",
    "\n",
    "\n",
    "\n",
    "def test_rotation_invariance():\n",
    "    # Crée une \"molécule\" avec 3 atomes\n",
    "    original_positions = np.array([\n",
    "        [0.0, 0.0, 0.0],\n",
    "        [5.0, 0.0, 0.0],\n",
    "        [0.0, 1.0, 0.0]\n",
    "    ])\n",
    "\n",
    "    transformed_positions = random_translate_and_rotate(original_positions, max_translation=5.0)\n",
    "\n",
    "    print(\"Original:\\n\", original_positions)\n",
    "    print(\"Transformé:\\n\", transformed_positions)\n",
    "\n",
    "    # Vérification des distances inter-atomiques (doivent rester les mêmes)\n",
    "    def pairwise_distances(positions):\n",
    "        n = len(positions)\n",
    "        distances = []\n",
    "        for i in range(n):\n",
    "            for j in range(i + 1, n):\n",
    "                d = np.linalg.norm(positions[i] - positions[j])\n",
    "                distances.append(d)\n",
    "        return np.array(distances)\n",
    "\n",
    "    d_orig = pairwise_distances(original_positions)\n",
    "    d_trans = pairwise_distances(transformed_positions)\n",
    "\n",
    "    print(\"\\nDistances originales:\", d_orig)\n",
    "    print(\"Distances transformées:\", d_trans)\n",
    "\n",
    "    if np.allclose(d_orig, d_trans, atol=1e-5):\n",
    "        print(\"\\n✅ La rotation conserve les distances : test réussi.\")\n",
    "    else:\n",
    "        print(\"\\n❌ Les distances ont changé : problème avec la rotation.\")\n",
    "\n",
    "\n",
    "    # Plot les positions originales et transformées\n",
    "    import matplotlib.pyplot as plt\n",
    "    fig = plt.figure(figsize=(10, 5))\n",
    "    ax = fig.add_subplot(121, projection='3d')\n",
    "    ax.scatter(original_positions[:, 0], original_positions[:, 1], original_positions[:, 2], color='blue', label='Original')\n",
    "    ax.set_title('Positions Originales')\n",
    "    ax = fig.add_subplot(122, projection='3d')\n",
    "    ax.scatter(transformed_positions[:, 0], transformed_positions[:, 1], transformed_positions[:, 2], color='red', label='Transformé')\n",
    "    ax.set_title('Positions Transformées')\n",
    "    plt.show()\n",
    "    \n",
    "\n",
    "# Lancer le test\n",
    "test_rotation_invariance()\n"
   ]
  },
  {
   "cell_type": "code",
   "execution_count": null,
   "id": "8c03ca80",
   "metadata": {},
   "outputs": [],
   "source": []
  }
 ],
 "metadata": {
  "kernelspec": {
   "display_name": "Personal",
   "language": "python",
   "name": "python3"
  },
  "language_info": {
   "codemirror_mode": {
    "name": "ipython",
    "version": 3
   },
   "file_extension": ".py",
   "mimetype": "text/x-python",
   "name": "python",
   "nbconvert_exporter": "python",
   "pygments_lexer": "ipython3",
   "version": "3.12.4"
  }
 },
 "nbformat": 4,
 "nbformat_minor": 5
}
